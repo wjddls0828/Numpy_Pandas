{
  "nbformat": 4,
  "nbformat_minor": 0,
  "metadata": {
    "colab": {
      "name": "numpy_datatype.ipynb",
      "provenance": [],
      "collapsed_sections": []
    },
    "kernelspec": {
      "name": "python3",
      "display_name": "Python 3"
    },
    "language_info": {
      "name": "python"
    }
  },
  "cells": [
    {
      "cell_type": "code",
      "metadata": {
        "id": "5tiD2MugDJTI"
      },
      "source": [
        "import numpy as np\n",
        "\n",
        "'''\n",
        "dtype 인자 지정을 통한 데이터 타입 변경 \n",
        "'''\n",
        "data = [1, 2, 3]\n",
        "cpx_arr = np.array(data, dtype=np.complex)\n",
        "str_arr = np.array(data, dtype=str)\n",
        "print(cpx_arr)\n",
        "print(str_arr)\n",
        "\n",
        "'''\n",
        "샘플 데이터 생성\n",
        "'''\n",
        "origin = np.arange(1, 2, 0.2)\n",
        "print('\\nOriginal data')\n",
        "print(origin)\n",
        "print('dtype : ', origin.dtype)\n",
        "\n",
        "'''\n",
        "astype(dtype) 을 활용한 데이터 타입 변경\n",
        "'''\n",
        "result = origin.astype(int)\n",
        "print('\\nResult of astype(int)')\n",
        "print(result)\n",
        "\n",
        "print('\\nOriginal data')\n",
        "print(origin)"
      ],
      "execution_count": null,
      "outputs": []
    }
  ]
}