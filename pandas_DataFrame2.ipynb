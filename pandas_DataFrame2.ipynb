{
  "nbformat": 4,
  "nbformat_minor": 0,
  "metadata": {
    "colab": {
      "name": "pandas_DataFrame2.ipynb",
      "provenance": [],
      "collapsed_sections": []
    },
    "kernelspec": {
      "name": "python3",
      "display_name": "Python 3"
    },
    "language_info": {
      "name": "python"
    }
  },
  "cells": [
    {
      "cell_type": "code",
      "metadata": {
        "id": "YBYwONNRJamT"
      },
      "source": [
        "import pandas as pd\n",
        "import numpy as np"
      ],
      "execution_count": 3,
      "outputs": []
    },
    {
      "cell_type": "code",
      "metadata": {
        "colab": {
          "base_uri": "https://localhost:8080/"
        },
        "id": "g7OUEszaJp3o",
        "outputId": "4b0c323b-4cad-4d88-d5cd-eb9eb4cde33e"
      },
      "source": [
        "#주어진 series 데이터를 이용하여 DataFame 을 생성\n",
        "series = {'one': pd.Series([1., 2., 3.], index=['a', 'b', 'c']),\n",
        "          'two': pd.Series([1, 2, 3, 4], index=['a', 'b', 'c', 'd'])}\n",
        "\n",
        "result = pd.DataFrame(data=series)\n",
        "print(result)\n",
        "print('\\n')"
      ],
      "execution_count": 4,
      "outputs": [
        {
          "output_type": "stream",
          "text": [
            "   one  two\n",
            "a  1.0    1\n",
            "b  2.0    2\n",
            "c  3.0    3\n",
            "d  NaN    4\n",
            "\n",
            "\n"
          ],
          "name": "stdout"
        }
      ]
    },
    {
      "cell_type": "code",
      "metadata": {
        "colab": {
          "base_uri": "https://localhost:8080/"
        },
        "id": "JwsCG1viJp6k",
        "outputId": "88970ea8-6bd2-442a-b02b-e0243b9d601f"
      },
      "source": [
        "#딕셔너리가 저장된 리스트 객체(data)를 이용하여 index 가 있는 DataFrame 을 생성\n",
        "data = [{'a': 1, 'b': 2}, {'a': 5, 'b': 10, 'c': 20}]\n",
        "idx = ['row1', 'row2']\n",
        "\n",
        "result = pd.DataFrame(data, index=idx)\n",
        "print(result)\n",
        "print('\\n')"
      ],
      "execution_count": 6,
      "outputs": [
        {
          "output_type": "stream",
          "text": [
            "      a   b     c\n",
            "row1  1   2   NaN\n",
            "row2  5  10  20.0\n",
            "\n",
            "\n"
          ],
          "name": "stdout"
        }
      ]
    },
    {
      "cell_type": "code",
      "metadata": {
        "colab": {
          "base_uri": "https://localhost:8080/"
        },
        "id": "4eV2aH2vJYcF",
        "outputId": "1d5bea5e-8398-4725-c8b2-4eaf89349c40"
      },
      "source": [
        "#주어진 ndarray 데이터를 이용하여 index 와  column이 지정된 DataFrame 을 생성\n",
        "arr = np.array([[1, 2, 3], [4, 5, 6], [7, 8, 9]])\n",
        "col = ['col1', 'col2', 'col3']\n",
        "idx = ['row1', 'row2', 'row2']\n",
        "\n",
        "result = pd.DataFrame(arr, columns=col, index=idx)\n",
        "print(result)"
      ],
      "execution_count": 7,
      "outputs": [
        {
          "output_type": "stream",
          "text": [
            "      col1  col2  col3\n",
            "row1     1     2     3\n",
            "row2     4     5     6\n",
            "row2     7     8     9\n"
          ],
          "name": "stdout"
        }
      ]
    }
  ]
}