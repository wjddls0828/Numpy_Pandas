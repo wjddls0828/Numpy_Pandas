{
  "nbformat": 4,
  "nbformat_minor": 0,
  "metadata": {
    "colab": {
      "name": "numpy_ndarray.ipynb",
      "provenance": [],
      "collapsed_sections": []
    },
    "kernelspec": {
      "name": "python3",
      "display_name": "Python 3"
    },
    "language_info": {
      "name": "python"
    }
  },
  "cells": [
    {
      "cell_type": "code",
      "metadata": {
        "id": "w3Fb56kDBRWg"
      },
      "source": [
        "'''\n",
        "numpy 라이브러리 호출\n",
        "'''\n",
        "import numpy as np\n",
        "\n",
        "'''\n",
        "numpy 버전 출력\n",
        "'''\n",
        "print(np.__version__)\n",
        "\n",
        "'''\n",
        "ndarray 생성\n",
        "'''\n",
        "data = [10, 20, 30]\n",
        "arr = np.array(data)\n",
        "\n",
        "'''\n",
        "생성한 ndarray 의 속성 출력\n",
        "'''\n",
        "print('\\nCreate 1D Array')\n",
        "print(arr) \n",
        "print('type = ', type(arr))\n",
        "print(\"shape: {}, size: {}, dtype: {}, dimension: {}\"\n",
        ".format(arr.shape, arr.size, arr.dtype, arr.ndim))\n",
        "\n",
        "'''\n",
        "2차원 ndarray 생성\n",
        "'''\n",
        "data = [[1,2,3], [4,5,6]]\n",
        "arr = np.array(data)\n",
        "\n",
        "'''\n",
        "생성한 ndarray 의 속성 출력\n",
        "'''\n",
        "print('\\nCreate 2D Array')\n",
        "print(arr)\n",
        "print('type = ', type(arr))\n",
        "print(\"shape: {}, size: {}, dtype: {}, dimension: {}\"\n",
        ".format(arr.shape, arr.size, arr.dtype, arr.ndim))\n",
        "\n",
        "'''\n",
        "3차원 ndarray 생성\n",
        "'''\n",
        "data = [[[1, 2, 3],\n",
        "         [4, 5, 6]],\n",
        "        [[3, 2, 1],\n",
        "         [4, 5, 6]]]\n",
        "arr = np.array(data, dtype = str)\n",
        "\n",
        "'''\n",
        "생성한 ndarray 의 속성 출력\n",
        "'''\n",
        "print('\\nCreate 3D Array')\n",
        "print(arr)\n",
        "print('type = ', type(arr))\n",
        "print(\"shape: {}, size: {}, dtype: {}, dimension: {}\"\n",
        ".format(arr.shape, arr.size, arr.dtype, arr.ndim))"
      ],
      "execution_count": null,
      "outputs": []
    }
  ]
}