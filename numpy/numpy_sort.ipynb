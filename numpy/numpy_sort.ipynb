{
  "nbformat": 4,
  "nbformat_minor": 0,
  "metadata": {
    "colab": {
      "name": "numpy_sort.ipynb",
      "provenance": [],
      "collapsed_sections": []
    },
    "kernelspec": {
      "name": "python3",
      "display_name": "Python 3"
    },
    "language_info": {
      "name": "python"
    }
  },
  "cells": [
    {
      "cell_type": "code",
      "metadata": {
        "colab": {
          "base_uri": "https://localhost:8080/"
        },
        "id": "kzqOqHuIJiHW",
        "outputId": "a5dce370-5a66-4723-ac4e-d0aa5b4ae5ea"
      },
      "source": [
        "import numpy as np\n",
        "\n",
        "# 샘플 데이터 생성\n",
        "sample = np.array([2,5,8,1])\n",
        "print('1D-Array Sample')\n",
        "print(sample)"
      ],
      "execution_count": 1,
      "outputs": [
        {
          "output_type": "stream",
          "text": [
            "1D-Array Sample\n",
            "[2 5 8 1]\n"
          ],
          "name": "stdout"
        }
      ]
    },
    {
      "cell_type": "code",
      "metadata": {
        "colab": {
          "base_uri": "https://localhost:8080/"
        },
        "id": "hoxbREFnJiPO",
        "outputId": "bd49bc27-e162-4826-de32-05ba3121e08a"
      },
      "source": [
        "# np.sort() 정렬\n",
        "result = np.sort(sample)\n",
        "print('\\nResult of np.sort')\n",
        "print('Result :', result)\n",
        "print('Original :', sample)"
      ],
      "execution_count": 2,
      "outputs": [
        {
          "output_type": "stream",
          "text": [
            "\n",
            "Result of np.sort\n",
            "Result : [1 2 5 8]\n",
            "Original : [2 5 8 1]\n"
          ],
          "name": "stdout"
        }
      ]
    },
    {
      "cell_type": "code",
      "metadata": {
        "colab": {
          "base_uri": "https://localhost:8080/"
        },
        "id": "e81vzqcjJiS1",
        "outputId": "800b19c2-4c3b-4b31-a7a8-bda610ea1864"
      },
      "source": [
        "# [::-1] 실습\n",
        "print('\\nTest[::-1] ')\n",
        "print('Original :', sample)\n",
        "print('Result :', sample[::-1] )"
      ],
      "execution_count": 3,
      "outputs": [
        {
          "output_type": "stream",
          "text": [
            "\n",
            "Test[::-1] \n",
            "Original : [2 5 8 1]\n",
            "Result : [1 8 5 2]\n"
          ],
          "name": "stdout"
        }
      ]
    },
    {
      "cell_type": "code",
      "metadata": {
        "colab": {
          "base_uri": "https://localhost:8080/"
        },
        "id": "IRsQNnklJiVf",
        "outputId": "d29118ad-e7a4-445d-a7ff-5b1e7c3e5672"
      },
      "source": [
        "# 내림차순 정렬\n",
        "\n",
        "sort_arr = np.sort(sample)\n",
        "result = sort_arr[::-1]\n",
        "print('\\nDcending Order')\n",
        "print('Dcending :', result)"
      ],
      "execution_count": 5,
      "outputs": [
        {
          "output_type": "stream",
          "text": [
            "\n",
            "Dcending Order\n",
            "Dcending : [8 5 2 1]\n"
          ],
          "name": "stdout"
        }
      ]
    },
    {
      "cell_type": "code",
      "metadata": {
        "colab": {
          "base_uri": "https://localhost:8080/"
        },
        "id": "zjxjdL-TJiYU",
        "outputId": "9b92c299-d9b2-4b51-dfe1-c0e14cc28a70"
      },
      "source": [
        "# 샘플 데이터 생성\n",
        "\n",
        "sample = np.array([[9,11],[5,1]])\n",
        "print('\\n2D-Array Sample')\n",
        "print(sample)"
      ],
      "execution_count": 6,
      "outputs": [
        {
          "output_type": "stream",
          "text": [
            "\n",
            "2D-Array Sample\n",
            "[[ 9 11]\n",
            " [ 5  1]]\n"
          ],
          "name": "stdout"
        }
      ]
    },
    {
      "cell_type": "code",
      "metadata": {
        "colab": {
          "base_uri": "https://localhost:8080/"
        },
        "id": "JffCxQiPKJC1",
        "outputId": "9f8cf1f8-fb53-41c5-81ae-533969fdb60b"
      },
      "source": [
        "# 2차원 배열 정렬 by axis=0\n",
        "\n",
        "result = np.sort(sample,axis=0)\n",
        "print('\\nnp.sort(axis=0) :')\n",
        "print(result)\n"
      ],
      "execution_count": 7,
      "outputs": [
        {
          "output_type": "stream",
          "text": [
            "\n",
            "np.sort(axis=0) :\n",
            "[[ 5  1]\n",
            " [ 9 11]]\n"
          ],
          "name": "stdout"
        }
      ]
    },
    {
      "cell_type": "code",
      "metadata": {
        "colab": {
          "base_uri": "https://localhost:8080/"
        },
        "id": "YCA5DhpoKNnX",
        "outputId": "d22ba4df-ba8b-4dd0-d403-4725cd72d5a4"
      },
      "source": [
        "# 2차원 배열 정렬 by axis=1\n",
        "\n",
        "result = np.sort(sample,axis=1)\n",
        "print('\\nnp.sort(axis=1) :')\n",
        "print(result)"
      ],
      "execution_count": 8,
      "outputs": [
        {
          "output_type": "stream",
          "text": [
            "\n",
            "np.sort(axis=1) :\n",
            "[[ 9 11]\n",
            " [ 1  5]]\n"
          ],
          "name": "stdout"
        }
      ]
    },
    {
      "cell_type": "code",
      "metadata": {
        "id": "0OYAI5LYKNp5"
      },
      "source": [
        "# 샘플 데이터 생성\n",
        "\n",
        "name = np.array(['John','Samuel','Kate','Mike','Sarah'])\n",
        "score = np.array([78,84,96,88,82])"
      ],
      "execution_count": 9,
      "outputs": []
    },
    {
      "cell_type": "code",
      "metadata": {
        "colab": {
          "base_uri": "https://localhost:8080/"
        },
        "id": "-8jO8HZ3KNsx",
        "outputId": "0968bad8-5d76-4a27-abfe-bff15643bda8"
      },
      "source": [
        "# np.argsort() 통해 정렬된 인덱스 값만 반환\n",
        "\n",
        "sort_indexes = np.argsort(score)\n",
        "print('\\nnp.argsort()')\n",
        "print('sort indexes :', sort_indexes)"
      ],
      "execution_count": 10,
      "outputs": [
        {
          "output_type": "stream",
          "text": [
            "\n",
            "np.argsort()\n",
            "sort indexes : [0 4 1 3 2]\n"
          ],
          "name": "stdout"
        }
      ]
    },
    {
      "cell_type": "code",
      "metadata": {
        "colab": {
          "base_uri": "https://localhost:8080/"
        },
        "id": "sDoD7SCFKNvb",
        "outputId": "b3e75ad9-f9c4-4aec-b67e-60bdd3b19cbf"
      },
      "source": [
        "# 인덱스 값을 통해 컬럼명 조회\n",
        "print('sort values :', name[sort_indexes])"
      ],
      "execution_count": 11,
      "outputs": [
        {
          "output_type": "stream",
          "text": [
            "sort values : ['John' 'Sarah' 'Samuel' 'Mike' 'Kate']\n"
          ],
          "name": "stdout"
        }
      ]
    }
  ]
}