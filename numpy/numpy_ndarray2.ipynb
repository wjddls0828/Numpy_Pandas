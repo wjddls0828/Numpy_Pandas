{
  "nbformat": 4,
  "nbformat_minor": 0,
  "metadata": {
    "colab": {
      "name": "numpy_ndarray2.ipynb",
      "provenance": [],
      "collapsed_sections": []
    },
    "kernelspec": {
      "name": "python3",
      "display_name": "Python 3"
    },
    "language_info": {
      "name": "python"
    }
  },
  "cells": [
    {
      "cell_type": "code",
      "metadata": {
        "id": "qxfQkMBsChAm"
      },
      "source": [
        "import numpy as np\n",
        "\n",
        "def printinfo(arr):\n",
        "  print(arr)\n",
        "  print(\"shape: {}, size: {}, dtype: {}, dimension: {}\"\n",
        "        .format(arr.shape, arr.size, arr.dtype, arr.ndim))\n",
        "\n",
        "'''\n",
        "np.arange() 를 통한 ndarray 생성\n",
        "'''\n",
        "arr = np.arange(2,10)\n",
        "print('\\nCreate ndarray by np.arange()')\n",
        "printinfo(arr)\n",
        "\n",
        "'''\n",
        "np.zeros(data) 를 통한 ndarray 생성1\n",
        "'''\n",
        "arr = np.zeros((5,))\n",
        "print('\\n Create ndarray by np.zeors()')\n",
        "printinfo(arr)\n",
        "\n",
        "'''\n",
        "np.zeros(data, dtype) 를 통한 ndarray 생성2\n",
        "'''\n",
        "arr = np.zeros((3,4), dtype = int)\n",
        "print('\\n Create ndarray by np.zeors()')\n",
        "printinfo(arr)\n",
        "\n",
        "'''\n",
        "np.ones() 를 통한 ndarray 생성\n",
        "'''\n",
        "arr = np.ones((3,4))\n",
        "print('\\n Create ndarray by np.ones()')\n",
        "printinfo(arr)\n",
        "\n",
        "'''\n",
        "np.full() 를 통한 ndarray 생성\n",
        "'''\n",
        "arr = np.full((3,4), 77)\n",
        "print('\\n Create ndarray by np.full()')\n",
        "printinfo(arr)\n",
        "\n",
        "'''\n",
        "sample 데이터 생성 및\n",
        "ones_like() 를 통한 ndarray 생성\n",
        "'''\n",
        "#sample 데이터 생성\n",
        "data = [[1,2,3], [4,5,6]]\n",
        "sample =  np.array(data)\n",
        "#print('\\n Sample')\n",
        "#printinfo(sample)\n",
        "\n",
        "# one_array = _________________\n",
        "# print('\\n Create ndarray by np.ones_like()')\n",
        "# printinfo(one_array)"
      ],
      "execution_count": null,
      "outputs": []
    }
  ]
}