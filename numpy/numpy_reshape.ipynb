{
  "nbformat": 4,
  "nbformat_minor": 0,
  "metadata": {
    "colab": {
      "name": "numpy_reshape.ipynb",
      "provenance": [],
      "collapsed_sections": []
    },
    "kernelspec": {
      "name": "python3",
      "display_name": "Python 3"
    },
    "language_info": {
      "name": "python"
    }
  },
  "cells": [
    {
      "cell_type": "code",
      "metadata": {
        "id": "470-A3McDhxH"
      },
      "source": [
        "import numpy as np\n",
        "\n",
        "# ndarray 속성 출력 함수\n",
        "def printinfo(arr):\n",
        "  print(arr)\n",
        "  print(\"shape: {}, size: {}, dtype: {}, dimension: {}\"\n",
        "        .format(arr.shape, arr.size, arr.dtype, arr.ndim))\n",
        "        \n",
        "# 샘플 데이터 생성\n",
        "origin_arr = np.arange(15)\n",
        "print('\\nOriginal ndarray')\n",
        "printinfo(origin_arr)\n",
        "\n",
        "'''\n",
        "reshape() 을 활용한 데이터 형상 변경\n",
        "'''\n",
        "reshape_arr = np.reshape(origin_arr, (3,5))\n",
        "print('\\nReshape ndarray')\n",
        "printinfo(reshape_arr)\n",
        "\n",
        "'''\n",
        "origin_arr에 저장된 1차원 배열을 -1을 활용하여 2차원으로 형상 변경\n",
        "'''\n",
        "reshape_arr = origin_arr.reshape(-1,1)\n",
        "print('\\nReshape(-1, N) to 2D array')\n",
        "printinfo(reshape_arr)"
      ],
      "execution_count": null,
      "outputs": []
    }
  ]
}