{
  "nbformat": 4,
  "nbformat_minor": 0,
  "metadata": {
    "colab": {
      "name": "numpy_cal.ipynb",
      "provenance": [],
      "collapsed_sections": []
    },
    "kernelspec": {
      "name": "python3",
      "display_name": "Python 3"
    },
    "language_info": {
      "name": "python"
    }
  },
  "cells": [
    {
      "cell_type": "code",
      "metadata": {
        "id": "QPruvZTeD1Er"
      },
      "source": [
        "import numpy as np\n",
        "import time\n",
        "\n",
        "# 샘플 데이터 생성\n",
        "a = np.arange(1,10).reshape(3,3)\n",
        "print('A---')\n",
        "print(a)\n",
        "\n",
        "b = np.arange(9,0,-1).reshape(3,3)\n",
        "print('\\nB---')\n",
        "print(b)\n",
        "\n",
        "'''\n",
        "# NumPy 의 덧셈연산\n",
        "'''\n",
        "result = a+b\n",
        "print('\\nResult of A + B')\n",
        "print(result)\n",
        "\n",
        "result = np.add(a,b)\n",
        "print('\\nResult of np.add(a,b)')\n",
        "print(result)\n",
        "\n",
        "'''\n",
        "# NumPy 의 나눗셈 연산\n",
        "'''\n",
        "result = a/b\n",
        "print('\\nResult of A / B')\n",
        "print(result)\n",
        "\n",
        "result = np.divide(a,b)\n",
        "print('\\nResult of np.divide(a,b)')\n",
        "print(result)\n",
        "\n",
        "\n",
        "'''\n",
        "# NumPy 의 비교연산(>)\n",
        "'''\n",
        "result = a > b\n",
        "print('\\nResult of comparison operator(>)')\n",
        "print(result)\n",
        "\n",
        "'''\n",
        "# NumPy 의 비교연산(!=)\n",
        "'''\n",
        "result = a!=b\n",
        "print('\\nResult of comparison operator(!=)')\n",
        "print(result)\n",
        "\n",
        "'''\n",
        "# Python 코드 실행 시간 측정하기\n",
        "'''\n",
        "python_arr = range(10000000)\n",
        "start = time.time() \n",
        "for i in python_arr:\n",
        "\ti + 1\n",
        "print(\"\\nPython(ms):\", (time.time() - start)*1000) \n",
        "\n",
        "\n",
        "'''\n",
        "# NumPy 코드 실행 시간 측정하기\n",
        "'''\n",
        "numpy_arr = np.arange(10000000)\n",
        "start = time.time()\n",
        "numpy_arr + 1\n",
        "print(\"NumPy(ms):\", (time.time() - start)*1000)"
      ],
      "execution_count": null,
      "outputs": []
    }
  ]
}