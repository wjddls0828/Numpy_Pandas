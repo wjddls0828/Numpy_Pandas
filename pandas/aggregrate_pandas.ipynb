{
  "nbformat": 4,
  "nbformat_minor": 0,
  "metadata": {
    "colab": {
      "name": "aggregrate_pandas.ipynb",
      "provenance": [],
      "collapsed_sections": []
    },
    "kernelspec": {
      "name": "python3",
      "display_name": "Python 3"
    },
    "language_info": {
      "name": "python"
    }
  },
  "cells": [
    {
      "cell_type": "code",
      "metadata": {
        "colab": {
          "base_uri": "https://localhost:8080/"
        },
        "id": "C9tv9PkdAqYR",
        "outputId": "ce42d0b3-e949-4493-eb59-3295107f9ec9"
      },
      "source": [
        "import pandas as pd\n",
        "import numpy as np\n",
        "\n",
        "# 실습 데이터 생성\n",
        "score = {'sub1': [3, 9, 1, 1, 9],\n",
        "         'sub2': [2, 9, np.nan, np.nan, 8],\n",
        "         'sub3': [np.nan, 1, 5, 5, 7],\n",
        "         'sub4': [np.nan, 3, np.nan, 1, np.nan]}\n",
        " \n",
        "df = pd.DataFrame(data=score)\n",
        "print(df)"
      ],
      "execution_count": 1,
      "outputs": [
        {
          "output_type": "stream",
          "name": "stdout",
          "text": [
            "   sub1  sub2  sub3  sub4\n",
            "0     3   2.0   NaN   NaN\n",
            "1     9   9.0   1.0   3.0\n",
            "2     1   NaN   5.0   NaN\n",
            "3     1   NaN   5.0   1.0\n",
            "4     9   8.0   7.0   NaN\n"
          ]
        }
      ]
    },
    {
      "cell_type": "code",
      "metadata": {
        "colab": {
          "base_uri": "https://localhost:8080/"
        },
        "id": "5nkFpXevArJg",
        "outputId": "25f775da-319a-4c25-8e24-a04a8513a227"
      },
      "source": [
        "'''\n",
        "count() 집계함수 실습\n",
        "'''\n",
        "print('\\n#1 Count Function')\n",
        "print(df.count())"
      ],
      "execution_count": 2,
      "outputs": [
        {
          "output_type": "stream",
          "name": "stdout",
          "text": [
            "\n",
            "#1 Count Function\n",
            "sub1    5\n",
            "sub2    3\n",
            "sub3    4\n",
            "sub4    2\n",
            "dtype: int64\n"
          ]
        }
      ]
    },
    {
      "cell_type": "code",
      "metadata": {
        "colab": {
          "base_uri": "https://localhost:8080/"
        },
        "id": "ZUOGpRxTArMq",
        "outputId": "3f731eae-9fc7-4942-ad5f-2dcf285a9414"
      },
      "source": [
        "'''\n",
        "count 함수에 axis=1 인지 추가한 실습\n",
        "'''\n",
        "print('\\n#2 Count Function with axis=1')\n",
        "print(df.count(axis=1))"
      ],
      "execution_count": 3,
      "outputs": [
        {
          "output_type": "stream",
          "name": "stdout",
          "text": [
            "\n",
            "#2 Count Function with axis=1\n",
            "0    2\n",
            "1    4\n",
            "2    2\n",
            "3    3\n",
            "4    3\n",
            "dtype: int64\n"
          ]
        }
      ]
    },
    {
      "cell_type": "code",
      "metadata": {
        "colab": {
          "base_uri": "https://localhost:8080/"
        },
        "id": "N_PQM_JhAo4o",
        "outputId": "459697b8-8fbd-4aeb-ee2c-8a5405c54776"
      },
      "source": [
        "'''\n",
        "sum() 집계함수 실습\n",
        "'''\n",
        "print('\\n#3 Sum Function')\n",
        "print(df.sum())"
      ],
      "execution_count": 4,
      "outputs": [
        {
          "output_type": "stream",
          "name": "stdout",
          "text": [
            "\n",
            "#3 Sum Function\n",
            "sub1    23.0\n",
            "sub2    19.0\n",
            "sub3    18.0\n",
            "sub4     4.0\n",
            "dtype: float64\n"
          ]
        }
      ]
    },
    {
      "cell_type": "code",
      "metadata": {
        "colab": {
          "base_uri": "https://localhost:8080/"
        },
        "id": "GCOKFonUA3h3",
        "outputId": "414cac86-69bc-42da-f7e7-7c19bf1ca1e0"
      },
      "source": [
        "'''\n",
        "sum() 함수에 skipna=False 인자 추가한 실습\n",
        "결측 값은 집계 대상에서 제외되므로, 결측 값이 포함될 필요가 있는 경우는 skipna=False 인자를 추가로 지정\n",
        "'''\n",
        "print('\\n#4 Sum Function with skipna')\n",
        "print(df.sum(skipna=False))"
      ],
      "execution_count": 5,
      "outputs": [
        {
          "output_type": "stream",
          "name": "stdout",
          "text": [
            "\n",
            "#4 Sum Function with skipna\n",
            "sub1    23.0\n",
            "sub2     NaN\n",
            "sub3     NaN\n",
            "sub4     NaN\n",
            "dtype: float64\n"
          ]
        }
      ]
    }
  ]
}