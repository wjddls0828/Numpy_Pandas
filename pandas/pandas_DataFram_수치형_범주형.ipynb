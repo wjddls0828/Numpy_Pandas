{
  "nbformat": 4,
  "nbformat_minor": 0,
  "metadata": {
    "colab": {
      "name": "pandas_DataFram_수치형_범주형.ipynb",
      "provenance": [],
      "collapsed_sections": []
    },
    "kernelspec": {
      "name": "python3",
      "display_name": "Python 3"
    },
    "language_info": {
      "name": "python"
    }
  },
  "cells": [
    {
      "cell_type": "code",
      "metadata": {
        "id": "OBmdhbo0tucF"
      },
      "source": [
        "import pandas as pd"
      ],
      "execution_count": 1,
      "outputs": []
    },
    {
      "cell_type": "code",
      "metadata": {
        "colab": {
          "base_uri": "https://localhost:8080/"
        },
        "id": "71frt6IVtvRv",
        "outputId": "3d6a950f-7e28-4f87-ac99-acd6dcb599bb"
      },
      "source": [
        "# 실습 데이터 생성\n",
        "score = {'name': ['Jessi', 'Emma', 'Alex', 'Jessi', 'Tom'],\n",
        "         'age': [20, 24, 23, 20, 27],\n",
        "         'score': [100, 95, 80, 85, 97],\n",
        "         'grade': ['A', 'A', 'B', 'B', 'A'],\n",
        "         'subject':['python', 'java', 'python', 'c', 'java']}\n",
        "\n",
        "score_df = pd.DataFrame(data=score)\n",
        "print(score_df)"
      ],
      "execution_count": 2,
      "outputs": [
        {
          "output_type": "stream",
          "text": [
            "    name  age  score grade subject\n",
            "0  Jessi   20    100     A  python\n",
            "1   Emma   24     95     A    java\n",
            "2   Alex   23     80     B  python\n",
            "3  Jessi   20     85     B       c\n",
            "4    Tom   27     97     A    java\n"
          ],
          "name": "stdout"
        }
      ]
    },
    {
      "cell_type": "code",
      "metadata": {
        "colab": {
          "base_uri": "https://localhost:8080/"
        },
        "id": "3omzfkE8tvW3",
        "outputId": "1fe4812c-85d6-40e0-a7c0-9cd3d0d106a3"
      },
      "source": [
        "print(\"\\nGenerate Descriptive Statistics\")\n",
        "print(score_df.describe())"
      ],
      "execution_count": 3,
      "outputs": [
        {
          "output_type": "stream",
          "text": [
            "\n",
            "Generate Descriptive Statistics\n",
            "             age       score\n",
            "count   5.000000    5.000000\n",
            "mean   22.800000   91.400000\n",
            "std     2.949576    8.502941\n",
            "min    20.000000   80.000000\n",
            "25%    20.000000   85.000000\n",
            "50%    23.000000   95.000000\n",
            "75%    24.000000   97.000000\n",
            "max    27.000000  100.000000\n"
          ],
          "name": "stdout"
        }
      ]
    },
    {
      "cell_type": "code",
      "metadata": {
        "colab": {
          "base_uri": "https://localhost:8080/"
        },
        "id": "dPOgsh2NtvZi",
        "outputId": "0f3a0936-5bce-4aae-ad3d-570ff2713871"
      },
      "source": [
        "print(\"\\nGenerate Descriptive Statistics for Categorical\")\n",
        "print(score_df[['grade','subject']].describe())"
      ],
      "execution_count": 4,
      "outputs": [
        {
          "output_type": "stream",
          "text": [
            "\n",
            "Generate Descriptive Statistics for Categorical\n",
            "       grade subject\n",
            "count      5       5\n",
            "unique     2       3\n",
            "top        A  python\n",
            "freq       3       2\n"
          ],
          "name": "stdout"
        }
      ]
    },
    {
      "cell_type": "code",
      "metadata": {
        "colab": {
          "base_uri": "https://localhost:8080/"
        },
        "id": "z-AtD197tvcc",
        "outputId": "1384c25e-ea41-4891-879d-d3714912cf9e"
      },
      "source": [
        "print(\"\\nGenerate Descriptive Statistics\")\n",
        "print(score_df.describe(include='all'))"
      ],
      "execution_count": 5,
      "outputs": [
        {
          "output_type": "stream",
          "text": [
            "\n",
            "Generate Descriptive Statistics\n",
            "         name        age       score grade subject\n",
            "count       5   5.000000    5.000000     5       5\n",
            "unique      4        NaN         NaN     2       3\n",
            "top     Jessi        NaN         NaN     A  python\n",
            "freq        2        NaN         NaN     3       2\n",
            "mean      NaN  22.800000   91.400000   NaN     NaN\n",
            "std       NaN   2.949576    8.502941   NaN     NaN\n",
            "min       NaN  20.000000   80.000000   NaN     NaN\n",
            "25%       NaN  20.000000   85.000000   NaN     NaN\n",
            "50%       NaN  23.000000   95.000000   NaN     NaN\n",
            "75%       NaN  24.000000   97.000000   NaN     NaN\n",
            "max       NaN  27.000000  100.000000   NaN     NaN\n"
          ],
          "name": "stdout"
        }
      ]
    },
    {
      "cell_type": "code",
      "metadata": {
        "colab": {
          "base_uri": "https://localhost:8080/"
        },
        "id": "FtHeozsSuKcK",
        "outputId": "eedaa086-a3d4-4d45-bcc2-3c3e0cab8dba"
      },
      "source": [
        "print(\"\\nThe Unique Values\")\n",
        "print(score_df['subject'].unique())"
      ],
      "execution_count": 6,
      "outputs": [
        {
          "output_type": "stream",
          "text": [
            "\n",
            "The Unique Values\n",
            "['python' 'java' 'c']\n"
          ],
          "name": "stdout"
        }
      ]
    },
    {
      "cell_type": "code",
      "metadata": {
        "colab": {
          "base_uri": "https://localhost:8080/"
        },
        "id": "24pXVtZEtr5S",
        "outputId": "beb51f04-9c74-4a4b-c5bf-9ded373eaedc"
      },
      "source": [
        "print(\"\\nThe Value Counts\")\n",
        "print(score_df['subject'].value_counts(normalize=True))"
      ],
      "execution_count": 7,
      "outputs": [
        {
          "output_type": "stream",
          "text": [
            "\n",
            "The Value Counts\n",
            "python    0.4\n",
            "java      0.4\n",
            "c         0.2\n",
            "Name: subject, dtype: float64\n"
          ],
          "name": "stdout"
        }
      ]
    }
  ]
}