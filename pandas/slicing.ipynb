{
  "nbformat": 4,
  "nbformat_minor": 0,
  "metadata": {
    "colab": {
      "name": "slicing.ipynb",
      "provenance": [],
      "collapsed_sections": []
    },
    "kernelspec": {
      "name": "python3",
      "display_name": "Python 3"
    },
    "language_info": {
      "name": "python"
    }
  },
  "cells": [
    {
      "cell_type": "code",
      "metadata": {
        "colab": {
          "base_uri": "https://localhost:8080/"
        },
        "id": "CpcgZuL0_EuK",
        "outputId": "38f7c5cc-fcf4-4fd9-935a-7c284de9ae63"
      },
      "source": [
        "import pandas as pd\n",
        "\n",
        "# 실습 데이터 생성\n",
        "d = {'name': ['Jessi', 'Emma', 'Alex', 'Jessi', 'Tom'],\n",
        "     'score': [100, 95, 80, 85, 97],\n",
        "     'grade': ['A', 'A', 'B', 'B', 'A'],\n",
        "     'subject':['python', 'java', 'python', 'c', 'java']}\n",
        "\n",
        "sample_df = pd.DataFrame(data=d)\n",
        "sample_df.set_index('name', inplace=True)\n",
        "\n",
        "print('Sample Data')\n",
        "print(sample_df)"
      ],
      "execution_count": 1,
      "outputs": [
        {
          "output_type": "stream",
          "name": "stdout",
          "text": [
            "Sample Data\n",
            "       score grade subject\n",
            "name                      \n",
            "Jessi    100     A  python\n",
            "Emma      95     A    java\n",
            "Alex      80     B  python\n",
            "Jessi     85     B       c\n",
            "Tom       97     A    java\n"
          ]
        }
      ]
    },
    {
      "cell_type": "code",
      "metadata": {
        "colab": {
          "base_uri": "https://localhost:8080/"
        },
        "id": "8M_vx0ha_F3w",
        "outputId": "d071ac42-fa06-46c5-dd39-ff82ee60eb39"
      },
      "source": [
        "'''\n",
        "기본 슬라이싱 기법을 통한 행 데이터 조회#1\n",
        "'''\n",
        "print('\\n#1 Access Rows by slicing')\n",
        "subset = sample_df[1:4] \n",
        "print(subset)"
      ],
      "execution_count": 2,
      "outputs": [
        {
          "output_type": "stream",
          "name": "stdout",
          "text": [
            "\n",
            "#1 Access Rows by slicing\n",
            "       score grade subject\n",
            "name                      \n",
            "Emma      95     A    java\n",
            "Alex      80     B  python\n",
            "Jessi     85     B       c\n"
          ]
        }
      ]
    },
    {
      "cell_type": "code",
      "metadata": {
        "colab": {
          "base_uri": "https://localhost:8080/"
        },
        "id": "fSCgtGVF_GA-",
        "outputId": "47a38835-277c-4f49-d4e1-a9ea0790050c"
      },
      "source": [
        "'''\n",
        "기본 슬라이싱 기법을 통한 행 데이터 조회#2\n",
        "'''\n",
        "print('\\n#2 Access Rows by slicing')\n",
        "subset = sample_df[::2] #start:end:step --> step을 2로\n",
        "print(subset)"
      ],
      "execution_count": 3,
      "outputs": [
        {
          "output_type": "stream",
          "name": "stdout",
          "text": [
            "\n",
            "#2 Access Rows by slicing\n",
            "       score grade subject\n",
            "name                      \n",
            "Jessi    100     A  python\n",
            "Alex      80     B  python\n",
            "Tom       97     A    java\n"
          ]
        }
      ]
    },
    {
      "cell_type": "code",
      "metadata": {
        "colab": {
          "base_uri": "https://localhost:8080/"
        },
        "id": "y5gghqS-_GFV",
        "outputId": "d3cbccca-825a-4d43-a768-acddd49a5381"
      },
      "source": [
        "'''\n",
        "기본 슬라이싱 기법을 통한 행 데이터 조회#3\n",
        "'''\n",
        "print('\\n#3 Access Rows by slicing')\n",
        "subset = sample_df[:'Alex']\n",
        "print(subset)"
      ],
      "execution_count": 4,
      "outputs": [
        {
          "output_type": "stream",
          "name": "stdout",
          "text": [
            "\n",
            "#3 Access Rows by slicing\n",
            "       score grade subject\n",
            "name                      \n",
            "Jessi    100     A  python\n",
            "Emma      95     A    java\n",
            "Alex      80     B  python\n"
          ]
        }
      ]
    },
    {
      "cell_type": "code",
      "metadata": {
        "colab": {
          "base_uri": "https://localhost:8080/"
        },
        "id": "UAusA1kGAFrl",
        "outputId": "aac2968d-6297-4a7e-a9b5-9bd62c4379e7"
      },
      "source": [
        "'''\n",
        "loc 프로퍼티 활용한 슬라이싱 실습\n",
        "'''\n",
        "print('\\n#4 Access Rows by loc[slicing]')\n",
        "subset = sample_df.loc[:'Emma',['subject','grade']]\n",
        "print(subset)"
      ],
      "execution_count": 5,
      "outputs": [
        {
          "output_type": "stream",
          "name": "stdout",
          "text": [
            "\n",
            "#4 Access Rows by loc[slicing]\n",
            "      subject grade\n",
            "name               \n",
            "Jessi  python     A\n",
            "Emma     java     A\n"
          ]
        }
      ]
    },
    {
      "cell_type": "code",
      "metadata": {
        "colab": {
          "base_uri": "https://localhost:8080/"
        },
        "id": "IAMkYcIz_ANM",
        "outputId": "03676374-e0bb-4efc-8bbb-85d108f58815"
      },
      "source": [
        "'''\n",
        "iloc 프로퍼티 활용한 슬라이싱 실습\n",
        "'''\n",
        "print('\\n#5 Access Rows by iloc[slicing]')\n",
        "subset = sample_df.iloc[:4,-1]\n",
        "print(subset)"
      ],
      "execution_count": 6,
      "outputs": [
        {
          "output_type": "stream",
          "name": "stdout",
          "text": [
            "\n",
            "#5 Access Rows by iloc[slicing]\n",
            "name\n",
            "Jessi    python\n",
            "Emma       java\n",
            "Alex     python\n",
            "Jessi         c\n",
            "Name: subject, dtype: object\n"
          ]
        }
      ]
    }
  ]
}