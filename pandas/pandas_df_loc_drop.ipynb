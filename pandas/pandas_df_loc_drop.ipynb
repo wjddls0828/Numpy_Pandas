{
  "nbformat": 4,
  "nbformat_minor": 0,
  "metadata": {
    "colab": {
      "name": "pandas_df_loc_drop.ipynb",
      "provenance": [],
      "collapsed_sections": []
    },
    "kernelspec": {
      "name": "python3",
      "display_name": "Python 3"
    },
    "language_info": {
      "name": "python"
    }
  },
  "cells": [
    {
      "cell_type": "code",
      "metadata": {
        "id": "5j6BzBlAuy8B"
      },
      "source": [
        "import pandas as pd"
      ],
      "execution_count": 1,
      "outputs": []
    },
    {
      "cell_type": "code",
      "metadata": {
        "colab": {
          "base_uri": "https://localhost:8080/"
        },
        "id": "sQZ3XrjEuzzQ",
        "outputId": "115b5162-9882-41bc-db51-e64c063993e5"
      },
      "source": [
        "score = {'name': ['Jessi', 'Emma', 'Alex', 'Jessi', 'Tom'],\n",
        "         'score': [100, 95, 80, 85, 97],\n",
        "         'grade': ['A', 'A', 'B', 'B', 'A'],\n",
        "         'subject':['python', 'java', 'python', 'c', 'java']}\n",
        "c = ['name', 'subject', 'score', 'grade', 'etc']\n",
        "\n",
        "df = pd.DataFrame(data=score, columns=c)\n",
        "print(df)"
      ],
      "execution_count": 2,
      "outputs": [
        {
          "output_type": "stream",
          "text": [
            "    name subject  score grade  etc\n",
            "0  Jessi  python    100     A  NaN\n",
            "1   Emma    java     95     A  NaN\n",
            "2   Alex  python     80     B  NaN\n",
            "3  Jessi       c     85     B  NaN\n",
            "4    Tom    java     97     A  NaN\n"
          ],
          "name": "stdout"
        }
      ]
    },
    {
      "cell_type": "code",
      "metadata": {
        "colab": {
          "base_uri": "https://localhost:8080/"
        },
        "id": "PRextQkJuz25",
        "outputId": "c1fe6f93-73e2-42f0-95a3-0471c1a8589b"
      },
      "source": [
        "df['high_score']=df['score']>90\n",
        "\n",
        "print('\\nAdd Columns : high_score')\n",
        "print(df)\n"
      ],
      "execution_count": 3,
      "outputs": [
        {
          "output_type": "stream",
          "text": [
            "\n",
            "Add Columns : high_score\n",
            "    name subject  score grade  etc  high_score\n",
            "0  Jessi  python    100     A  NaN        True\n",
            "1   Emma    java     95     A  NaN        True\n",
            "2   Alex  python     80     B  NaN       False\n",
            "3  Jessi       c     85     B  NaN       False\n",
            "4    Tom    java     97     A  NaN        True\n"
          ],
          "name": "stdout"
        }
      ]
    },
    {
      "cell_type": "code",
      "metadata": {
        "colab": {
          "base_uri": "https://localhost:8080/"
        },
        "id": "8v1f0HB3uz66",
        "outputId": "0421eff2-c9c0-4421-8313-29915f458976"
      },
      "source": [
        "df.loc[6] = ['Jina', 'python', 100, 'A', 1, True]\n",
        "\n",
        "print('\\nAdd Row 6')\n",
        "print(df)"
      ],
      "execution_count": 9,
      "outputs": [
        {
          "output_type": "stream",
          "text": [
            "\n",
            "Add Row 6\n",
            "    name subject  score grade  etc  high_score\n",
            "0  Jessi  python    100     A  NaN        True\n",
            "1   Emma    java     95     A  NaN        True\n",
            "2   Alex  python     80     B  NaN       False\n",
            "3  Jessi       c     85     B  NaN       False\n",
            "4    Tom    java     97     A  NaN        True\n",
            "6   Jina  python    100     A    1        True\n"
          ],
          "name": "stdout"
        }
      ]
    },
    {
      "cell_type": "code",
      "metadata": {
        "colab": {
          "base_uri": "https://localhost:8080/"
        },
        "id": "r-7kn2_Su_TH",
        "outputId": "835d5c71-f5e8-4807-92cb-eee400af06a0"
      },
      "source": [
        "'''\n",
        "1) drop() 이용하여 행 데이터 삭제\n",
        "2) inplace 인자를 사용하여 원본 데이터에 바로 삭제\n",
        "'''\n",
        "df.drop(6,inplace=True)\n",
        "\n",
        "print('\\nDelete Row : 6')\n",
        "print(df)"
      ],
      "execution_count": 10,
      "outputs": [
        {
          "output_type": "stream",
          "text": [
            "\n",
            "Delete Row : 6\n",
            "    name subject  score grade  etc  high_score\n",
            "0  Jessi  python    100     A  NaN        True\n",
            "1   Emma    java     95     A  NaN        True\n",
            "2   Alex  python     80     B  NaN       False\n",
            "3  Jessi       c     85     B  NaN       False\n",
            "4    Tom    java     97     A  NaN        True\n"
          ],
          "name": "stdout"
        }
      ]
    },
    {
      "cell_type": "code",
      "metadata": {
        "colab": {
          "base_uri": "https://localhost:8080/"
        },
        "id": "lWc2yjRou_bm",
        "outputId": "7be96947-9bcd-4b13-856d-778f7d2d07c4"
      },
      "source": [
        "'''\n",
        "drop() 이용하여 'etc' 열 삭제 (원본데이터변경)\n",
        "'''\n",
        "df.drop(columns='etc',inplace=True)\n",
        "\n",
        "print('\\nDelete Column :')\n",
        "print(df)"
      ],
      "execution_count": 11,
      "outputs": [
        {
          "output_type": "stream",
          "text": [
            "\n",
            "Delete Column :\n",
            "    name subject  score grade  high_score\n",
            "0  Jessi  python    100     A        True\n",
            "1   Emma    java     95     A        True\n",
            "2   Alex  python     80     B       False\n",
            "3  Jessi       c     85     B       False\n",
            "4    Tom    java     97     A        True\n"
          ],
          "name": "stdout"
        }
      ]
    }
  ]
}