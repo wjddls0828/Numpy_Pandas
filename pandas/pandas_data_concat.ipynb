{
  "nbformat": 4,
  "nbformat_minor": 0,
  "metadata": {
    "colab": {
      "name": "pandas_data_concat.ipynb",
      "provenance": [],
      "collapsed_sections": []
    },
    "kernelspec": {
      "name": "python3",
      "display_name": "Python 3"
    },
    "language_info": {
      "name": "python"
    }
  },
  "cells": [
    {
      "cell_type": "code",
      "metadata": {
        "id": "_6KQi0R0FoR1"
      },
      "source": [
        "import pandas as pd\n",
        "\n",
        "# 실습 데이터 생성\n",
        "df1 = pd.DataFrame({'A': ['A0', 'A1', 'A2', 'A3'],\n",
        "                    'B': ['B0', 'B1', 'B2', 'B3'],\n",
        "                    'C': ['C0', 'C1', 'C2', 'C3'],\n",
        "                    'D': ['D0', 'D1', 'D2', 'D3']},\n",
        "                    index=[0, 1, 2, 3])\n",
        "\n",
        "df2 = pd.DataFrame({'A': ['A4', 'A5', 'A6', 'A7'],\n",
        "                    'B': ['B4', 'B5', 'B6', 'B7'],\n",
        "                    'C': ['C4', 'C5', 'C6', 'C7'],\n",
        "                    'D': ['D4', 'D5', 'D6', 'D7']},\n",
        "                    index=[4, 5, 6, 7])                   \n",
        "\n",
        "df3 = pd.DataFrame({'A': ['A8', 'A9', 'A10', 'A11'],\n",
        "                    'B': ['B8', 'B9', 'B10', 'B11'],\n",
        "                    'C': ['C8', 'C9', 'C10', 'C11'],\n",
        "                    'D': ['D8', 'D9', 'D10', 'D11']},\n",
        "                    index=[8, 9, 10, 11])\n",
        "\n",
        "df4 = pd.DataFrame({'B': ['B2', 'B3', 'B6', 'B7'],\n",
        "                    'D': ['D2', 'D3', 'D6', 'D7'],\n",
        "                    'F': ['F2', 'F3', 'F6', 'F7']},\n",
        "                    index=[2, 3, 6, 7])"
      ],
      "execution_count": 1,
      "outputs": []
    },
    {
      "cell_type": "code",
      "metadata": {
        "colab": {
          "base_uri": "https://localhost:8080/"
        },
        "id": "Om0y9rehFpAa",
        "outputId": "ac5fd4cc-d743-4c6a-d5da-ec53d23b1a06"
      },
      "source": [
        "print('DF1')\n",
        "print(df1)\n",
        "print('\\nDF2')\n",
        "print(df2)\n",
        "print('\\nDF3')\n",
        "print(df3)\n",
        "print('\\nDF4')\n",
        "print(df4)"
      ],
      "execution_count": 2,
      "outputs": [
        {
          "output_type": "stream",
          "name": "stdout",
          "text": [
            "DF1\n",
            "    A   B   C   D\n",
            "0  A0  B0  C0  D0\n",
            "1  A1  B1  C1  D1\n",
            "2  A2  B2  C2  D2\n",
            "3  A3  B3  C3  D3\n",
            "\n",
            "DF2\n",
            "    A   B   C   D\n",
            "4  A4  B4  C4  D4\n",
            "5  A5  B5  C5  D5\n",
            "6  A6  B6  C6  D6\n",
            "7  A7  B7  C7  D7\n",
            "\n",
            "DF3\n",
            "      A    B    C    D\n",
            "8    A8   B8   C8   D8\n",
            "9    A9   B9   C9   D9\n",
            "10  A10  B10  C10  D10\n",
            "11  A11  B11  C11  D11\n",
            "\n",
            "DF4\n",
            "    B   D   F\n",
            "2  B2  D2  F2\n",
            "3  B3  D3  F3\n",
            "6  B6  D6  F6\n",
            "7  B7  D7  F7\n"
          ]
        }
      ]
    },
    {
      "cell_type": "code",
      "metadata": {
        "colab": {
          "base_uri": "https://localhost:8080/"
        },
        "id": "58hRqmKpFpDE",
        "outputId": "8195462c-c7bf-459b-a5d4-b7e8ec668509"
      },
      "source": [
        "'''\n",
        "df2, df1 합치기\n",
        "'''\n",
        "print('\\n#1 Concat df2, df1')\n",
        "result = pd.concat([df2, df1], ignore_index=True)\n",
        "print(result)\n"
      ],
      "execution_count": 4,
      "outputs": [
        {
          "output_type": "stream",
          "name": "stdout",
          "text": [
            "\n",
            "#1 Concat df2, df1\n",
            "    A   B   C   D\n",
            "0  A4  B4  C4  D4\n",
            "1  A5  B5  C5  D5\n",
            "2  A6  B6  C6  D6\n",
            "3  A7  B7  C7  D7\n",
            "4  A0  B0  C0  D0\n",
            "5  A1  B1  C1  D1\n",
            "6  A2  B2  C2  D2\n",
            "7  A3  B3  C3  D3\n"
          ]
        }
      ]
    },
    {
      "cell_type": "code",
      "metadata": {
        "colab": {
          "base_uri": "https://localhost:8080/"
        },
        "id": "cykzvKhCFpFo",
        "outputId": "be9f7869-da4b-43c5-dfe5-bcb524b5014a"
      },
      "source": [
        "'''\n",
        "shape 이 서로 다른 df1, df4 합치기\n",
        "'''\n",
        "print('\\n#2 Concat df1, df4')\n",
        "result = pd.concat([df1, df4])\n",
        "print(result)"
      ],
      "execution_count": 5,
      "outputs": [
        {
          "output_type": "stream",
          "name": "stdout",
          "text": [
            "\n",
            "#2 Concat df1, df4\n",
            "     A   B    C   D    F\n",
            "0   A0  B0   C0  D0  NaN\n",
            "1   A1  B1   C1  D1  NaN\n",
            "2   A2  B2   C2  D2  NaN\n",
            "3   A3  B3   C3  D3  NaN\n",
            "2  NaN  B2  NaN  D2   F2\n",
            "3  NaN  B3  NaN  D3   F3\n",
            "6  NaN  B6  NaN  D6   F6\n",
            "7  NaN  B7  NaN  D7   F7\n"
          ]
        }
      ]
    },
    {
      "cell_type": "code",
      "metadata": {
        "colab": {
          "base_uri": "https://localhost:8080/"
        },
        "id": "tlt46nxmGOEn",
        "outputId": "0645c7a5-9fc4-4966-cd32-269fe8c2c181"
      },
      "source": [
        "'''\n",
        "슬라이싱을 통해 일부 데이터 합치기\n",
        "'''\n",
        "print('\\n#3 Concat df1, df4 by slicing')\n",
        "result = pd.concat([df1[:2],df4[3:]])\n",
        "print(result)"
      ],
      "execution_count": 6,
      "outputs": [
        {
          "output_type": "stream",
          "name": "stdout",
          "text": [
            "\n",
            "#3 Concat df1, df4 by slicing\n",
            "     A   B    C   D    F\n",
            "0   A0  B0   C0  D0  NaN\n",
            "1   A1  B1   C1  D1  NaN\n",
            "7  NaN  B7  NaN  D7   F7\n"
          ]
        }
      ]
    },
    {
      "cell_type": "code",
      "metadata": {
        "colab": {
          "base_uri": "https://localhost:8080/"
        },
        "id": "dWkRgYF0GXhc",
        "outputId": "84dbadd2-1e28-4c49-e609-6a9343918b9e"
      },
      "source": [
        "'''\n",
        "행 기준으로 df1, df4 합치기\n",
        "'''\n",
        "print('\\n#4 Concat df1, df4 by axis=1')\n",
        "result = pd.concat([df1, df4], axis = 1) #행 인덱스가 같은 것을 합치기\n",
        "print(result)"
      ],
      "execution_count": 7,
      "outputs": [
        {
          "output_type": "stream",
          "name": "stdout",
          "text": [
            "\n",
            "#4 Concat df1, df4 by axis=1\n",
            "     A    B    C    D    B    D    F\n",
            "0   A0   B0   C0   D0  NaN  NaN  NaN\n",
            "1   A1   B1   C1   D1  NaN  NaN  NaN\n",
            "2   A2   B2   C2   D2   B2   D2   F2\n",
            "3   A3   B3   C3   D3   B3   D3   F3\n",
            "6  NaN  NaN  NaN  NaN   B6   D6   F6\n",
            "7  NaN  NaN  NaN  NaN   B7   D7   F7\n"
          ]
        }
      ]
    },
    {
      "cell_type": "code",
      "metadata": {
        "colab": {
          "base_uri": "https://localhost:8080/"
        },
        "id": "OKGQNWG5FjF9",
        "outputId": "f83b893d-08a2-4312-b5dd-aa26d7e4a48e"
      },
      "source": [
        "'''\n",
        "교집합으로 데이터 결합하기\n",
        "'''\n",
        "print('\\n#5 Concat df1, df4 by join=inner')\n",
        "result = pd.concat([df1,df4], join = 'inner')\n",
        "print(result)"
      ],
      "execution_count": 8,
      "outputs": [
        {
          "output_type": "stream",
          "name": "stdout",
          "text": [
            "\n",
            "#5 Concat df1, df4 by join=inner\n",
            "    B   D\n",
            "0  B0  D0\n",
            "1  B1  D1\n",
            "2  B2  D2\n",
            "3  B3  D3\n",
            "2  B2  D2\n",
            "3  B3  D3\n",
            "6  B6  D6\n",
            "7  B7  D7\n"
          ]
        }
      ]
    }
  ]
}