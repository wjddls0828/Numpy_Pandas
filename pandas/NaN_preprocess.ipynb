{
  "nbformat": 4,
  "nbformat_minor": 0,
  "metadata": {
    "colab": {
      "name": "NaN_preprocess.ipynb",
      "provenance": []
    },
    "kernelspec": {
      "name": "python3",
      "display_name": "Python 3"
    },
    "language_info": {
      "name": "python"
    }
  },
  "cells": [
    {
      "cell_type": "code",
      "metadata": {
        "id": "6toYB5Vr30eE"
      },
      "source": [
        "import pandas as pd\n",
        "import numpy as np"
      ],
      "execution_count": 1,
      "outputs": []
    },
    {
      "cell_type": "code",
      "metadata": {
        "colab": {
          "base_uri": "https://localhost:8080/"
        },
        "id": "DVCc0YSp31Ju",
        "outputId": "73c711af-8132-4ef1-b0d2-4d980fefef2a"
      },
      "source": [
        "# 실습 데이터 생성\n",
        "df = pd.DataFrame(data = np.arange(18).reshape(6,3),\n",
        "\t\t\t\t  index = ['a','b','c','d','e','f'],\n",
        "                  columns=['col1','col2','col3'])\n",
        "                  \n",
        "df['col4'] = pd.Series(data = [1.7, 1.2, 2.4], \n",
        "                       index = ['a','e','c'])\n",
        "df.loc['c'] = None\n",
        "print('Sample Data')\n",
        "print(df)\n"
      ],
      "execution_count": 2,
      "outputs": [
        {
          "output_type": "stream",
          "name": "stdout",
          "text": [
            "Sample Data\n",
            "   col1  col2  col3  col4\n",
            "a   0.0   1.0   2.0   1.7\n",
            "b   3.0   4.0   5.0   NaN\n",
            "c   NaN   NaN   NaN   NaN\n",
            "d   9.0  10.0  11.0   NaN\n",
            "e  12.0  13.0  14.0   1.2\n",
            "f  15.0  16.0  17.0   NaN\n"
          ]
        }
      ]
    },
    {
      "cell_type": "code",
      "metadata": {
        "colab": {
          "base_uri": "https://localhost:8080/"
        },
        "id": "3OgooXiC31MP",
        "outputId": "ffd77234-38e9-4fe4-90c3-dfa2c978eb57"
      },
      "source": [
        "'''\n",
        "1) 행을 기준으로 결측치 조회하여 제거하기\n",
        "2) how=all 인자로 전체 nan 인 경우만 제거하기\n",
        "'''\n",
        "print('\\n#1 Remove missing values')\n",
        "print(df.dropna(how='all'))\n",
        "print(df)"
      ],
      "execution_count": 3,
      "outputs": [
        {
          "output_type": "stream",
          "name": "stdout",
          "text": [
            "\n",
            "#1 Remove missing values\n",
            "   col1  col2  col3  col4\n",
            "a   0.0   1.0   2.0   1.7\n",
            "b   3.0   4.0   5.0   NaN\n",
            "d   9.0  10.0  11.0   NaN\n",
            "e  12.0  13.0  14.0   1.2\n",
            "f  15.0  16.0  17.0   NaN\n",
            "   col1  col2  col3  col4\n",
            "a   0.0   1.0   2.0   1.7\n",
            "b   3.0   4.0   5.0   NaN\n",
            "c   NaN   NaN   NaN   NaN\n",
            "d   9.0  10.0  11.0   NaN\n",
            "e  12.0  13.0  14.0   1.2\n",
            "f  15.0  16.0  17.0   NaN\n"
          ]
        }
      ]
    },
    {
      "cell_type": "code",
      "metadata": {
        "colab": {
          "base_uri": "https://localhost:8080/"
        },
        "id": "1IJdI1tg31O8",
        "outputId": "d791c328-2cd6-4cff-bd63-d974eab6dfbc"
      },
      "source": [
        "'''\n",
        "원본 데이터에 반영하기\n",
        "'''\n",
        "print('\\n#2 Remove missing values with inpalce=True')\n",
        "df.dropna(how='all', inplace=True)\n",
        "print(df)"
      ],
      "execution_count": 4,
      "outputs": [
        {
          "output_type": "stream",
          "name": "stdout",
          "text": [
            "\n",
            "#2 Remove missing values with inpalce=True\n",
            "   col1  col2  col3  col4\n",
            "a   0.0   1.0   2.0   1.7\n",
            "b   3.0   4.0   5.0   NaN\n",
            "d   9.0  10.0  11.0   NaN\n",
            "e  12.0  13.0  14.0   1.2\n",
            "f  15.0  16.0  17.0   NaN\n"
          ]
        }
      ]
    },
    {
      "cell_type": "code",
      "metadata": {
        "colab": {
          "base_uri": "https://localhost:8080/"
        },
        "id": "4ufQM3DX31Rc",
        "outputId": "5775e756-44c5-4800-b5f4-5fb59de56233"
      },
      "source": [
        "'''\n",
        "열을 기준으로 결측치 조회하여 제거하기\n",
        "'''\n",
        "print('\\n#3 Remove missing values in columns')\n",
        "print(df.dropna(axis='columns'))"
      ],
      "execution_count": 5,
      "outputs": [
        {
          "output_type": "stream",
          "name": "stdout",
          "text": [
            "\n",
            "#3 Remove missing values in columns\n",
            "   col1  col2  col3\n",
            "a   0.0   1.0   2.0\n",
            "b   3.0   4.0   5.0\n",
            "d   9.0  10.0  11.0\n",
            "e  12.0  13.0  14.0\n",
            "f  15.0  16.0  17.0\n"
          ]
        }
      ]
    },
    {
      "cell_type": "code",
      "metadata": {
        "colab": {
          "base_uri": "https://localhost:8080/"
        },
        "id": "KOQzxMj531UP",
        "outputId": "d28c32e3-d8ee-43c3-cf24-414b38998388"
      },
      "source": [
        "print(df)\n",
        "df.iloc[:2, 0] = np.nan #iloc으로 행 선택(0~1행), 0열\n",
        "df.iloc[:4, 1] = np.nan #iloc으로 행 선택(0~3행), 1열\n",
        "print('\\nSample Data')\n",
        "print(df)"
      ],
      "execution_count": 6,
      "outputs": [
        {
          "output_type": "stream",
          "name": "stdout",
          "text": [
            "   col1  col2  col3  col4\n",
            "a   0.0   1.0   2.0   1.7\n",
            "b   3.0   4.0   5.0   NaN\n",
            "d   9.0  10.0  11.0   NaN\n",
            "e  12.0  13.0  14.0   1.2\n",
            "f  15.0  16.0  17.0   NaN\n",
            "\n",
            "Sample Data\n",
            "   col1  col2  col3  col4\n",
            "a   NaN   NaN   2.0   1.7\n",
            "b   NaN   NaN   5.0   NaN\n",
            "d   9.0   NaN  11.0   NaN\n",
            "e  12.0   NaN  14.0   1.2\n",
            "f  15.0  16.0  17.0   NaN\n"
          ]
        }
      ]
    },
    {
      "cell_type": "code",
      "metadata": {
        "colab": {
          "base_uri": "https://localhost:8080/"
        },
        "id": "QRq6Mm4C5QrK",
        "outputId": "801d9dd2-579d-4445-cbfd-3dc2858d00bb"
      },
      "source": [
        "'''\n",
        "결측값을 0 으로 대체하기\n",
        "'''\n",
        "print('\\n#4 Replace missing values')\n",
        "print(df.fillna(0))"
      ],
      "execution_count": 8,
      "outputs": [
        {
          "output_type": "stream",
          "name": "stdout",
          "text": [
            "\n",
            "#4 Replace missing values\n",
            "   col1  col2  col3  col4\n",
            "a  12.0   0.0   2.0   1.7\n",
            "b  12.0   0.0   5.0   0.0\n",
            "d   9.0   0.0  11.0   0.0\n",
            "e  12.0   0.0  14.0   1.2\n",
            "f  15.0  16.0  17.0   0.0\n"
          ]
        }
      ]
    },
    {
      "cell_type": "code",
      "metadata": {
        "colab": {
          "base_uri": "https://localhost:8080/"
        },
        "id": "CTEpx8W_371G",
        "outputId": "fdb9f0e7-4b36-4c10-c4af-3f01f6cc3515"
      },
      "source": [
        "'''\n",
        "딕셔너리를 활용한 컬럼별 대체값 지정하기\n",
        "'''\n",
        "print('\\n#5 Replace missing values')\n",
        "replace_set = {'col2':0,'col4':'100'}\n",
        "print(df.fillna(replace_set))\n",
        "\n"
      ],
      "execution_count": 9,
      "outputs": [
        {
          "output_type": "stream",
          "name": "stdout",
          "text": [
            "\n",
            "#5 Replace missing values\n",
            "   col1  col2  col3 col4\n",
            "a  12.0   0.0   2.0  1.7\n",
            "b  12.0   0.0   5.0  100\n",
            "d   9.0   0.0  11.0  100\n",
            "e  12.0   0.0  14.0  1.2\n",
            "f  15.0  16.0  17.0  100\n"
          ]
        }
      ]
    },
    {
      "cell_type": "code",
      "metadata": {
        "colab": {
          "base_uri": "https://localhost:8080/"
        },
        "id": "sfhLrl-N3yvO",
        "outputId": "372432f3-6f57-4b7a-d6ab-31e8044d9821"
      },
      "source": [
        "\n",
        "'''\n",
        "1)대표값인 평균을 활용하여 결측치 대체하기\n",
        "2)원본 데이터에 반영하기\n",
        "'''\n",
        "print('\\n#6 Replace missing values')\n",
        "replace_set = {'col1':df['col1'].mean()}\n",
        "df.fillna(replace_set,inplace=True)\n",
        "print(df)"
      ],
      "execution_count": 10,
      "outputs": [
        {
          "output_type": "stream",
          "name": "stdout",
          "text": [
            "\n",
            "#6 Replace missing values\n",
            "   col1  col2  col3  col4\n",
            "a  12.0   NaN   2.0   1.7\n",
            "b  12.0   NaN   5.0   NaN\n",
            "d   9.0   NaN  11.0   NaN\n",
            "e  12.0   NaN  14.0   1.2\n",
            "f  15.0  16.0  17.0   NaN\n"
          ]
        }
      ]
    }
  ]
}