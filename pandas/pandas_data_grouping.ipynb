{
  "nbformat": 4,
  "nbformat_minor": 0,
  "metadata": {
    "colab": {
      "name": "pandas_data_grouping.ipynb",
      "provenance": [],
      "collapsed_sections": []
    },
    "kernelspec": {
      "name": "python3",
      "display_name": "Python 3"
    },
    "language_info": {
      "name": "python"
    }
  },
  "cells": [
    {
      "cell_type": "code",
      "metadata": {
        "colab": {
          "base_uri": "https://localhost:8080/"
        },
        "id": "P8HLTuQlEsJ2",
        "outputId": "74663d07-cf82-4938-f23d-faf6a1c60faa"
      },
      "source": [
        "import pandas as pd\n",
        "import numpy as np\n",
        "\n",
        "# 실습 데이터 생성\n",
        "sample = {'product':['a','b','a','b','a','b','a','a'],\n",
        "          'sensor':['s1','s1','s2','s3','s2','s2','s1','s3'],\n",
        "          'x':np.arange(1,9),\n",
        "          'y':np.arange(5,13)}\n",
        "\n",
        "df = pd.DataFrame(data=sample)\n",
        "print(df)"
      ],
      "execution_count": 1,
      "outputs": [
        {
          "output_type": "stream",
          "name": "stdout",
          "text": [
            "  product sensor  x   y\n",
            "0       a     s1  1   5\n",
            "1       b     s1  2   6\n",
            "2       a     s2  3   7\n",
            "3       b     s3  4   8\n",
            "4       a     s2  5   9\n",
            "5       b     s2  6  10\n",
            "6       a     s1  7  11\n",
            "7       a     s3  8  12\n"
          ]
        }
      ]
    },
    {
      "cell_type": "code",
      "metadata": {
        "colab": {
          "base_uri": "https://localhost:8080/"
        },
        "id": "nmZUDRGNEzOi",
        "outputId": "ab9d67e0-fcfc-4d3b-8981-663a01c67746"
      },
      "source": [
        "'''\n",
        "product 컬럼 기준으로 그룹화하기\n",
        "'''\n",
        "print('\\n#1 groupby-product')\n",
        "grouped_product = df.groupby('product')\n",
        "print(grouped_product)"
      ],
      "execution_count": 3,
      "outputs": [
        {
          "output_type": "stream",
          "name": "stdout",
          "text": [
            "\n",
            "#1 groupby-product\n",
            "<pandas.core.groupby.generic.DataFrameGroupBy object at 0x7f2d1c8af610>\n"
          ]
        }
      ]
    },
    {
      "cell_type": "code",
      "metadata": {
        "colab": {
          "base_uri": "https://localhost:8080/"
        },
        "id": "XpKIIC-3E95i",
        "outputId": "e83ec36c-3918-4c6b-c85f-337e899f0cbd"
      },
      "source": [
        "'''\n",
        "grouped_product 에 저장된 key와 value 출력하기\n",
        "주석(#)만 제거하고 실행해보세요.\n",
        "'''\n",
        "print('\\n#2 key & value')\n",
        "for key, value in grouped_product:\n",
        "      print(\"-----------------------\")\n",
        "      print(\"key :\", key)\n",
        "      print(\"value :\\n\", value)"
      ],
      "execution_count": 4,
      "outputs": [
        {
          "output_type": "stream",
          "name": "stdout",
          "text": [
            "\n",
            "#2 key & value\n",
            "-----------------------\n",
            "key : a\n",
            "value :\n",
            "   product sensor  x   y\n",
            "0       a     s1  1   5\n",
            "2       a     s2  3   7\n",
            "4       a     s2  5   9\n",
            "6       a     s1  7  11\n",
            "7       a     s3  8  12\n",
            "-----------------------\n",
            "key : b\n",
            "value :\n",
            "   product sensor  x   y\n",
            "1       b     s1  2   6\n",
            "3       b     s3  4   8\n",
            "5       b     s2  6  10\n"
          ]
        }
      ]
    },
    {
      "cell_type": "code",
      "metadata": {
        "colab": {
          "base_uri": "https://localhost:8080/"
        },
        "id": "3D0X3eSwFBe2",
        "outputId": "58f41c81-0778-491b-95e2-154e175334da"
      },
      "source": [
        "'''\n",
        "groupby 결과에 집계함수 적용하기\n",
        "'''\n",
        "print('\\n#3 groupby-product')\n",
        "grouped_product = df.groupby('product').sum()\n",
        "print(grouped_product)"
      ],
      "execution_count": 5,
      "outputs": [
        {
          "output_type": "stream",
          "name": "stdout",
          "text": [
            "\n",
            "#3 groupby-product\n",
            "          x   y\n",
            "product        \n",
            "a        24  44\n",
            "b        12  24\n"
          ]
        }
      ]
    },
    {
      "cell_type": "code",
      "metadata": {
        "colab": {
          "base_uri": "https://localhost:8080/"
        },
        "id": "upW9mYovFBpC",
        "outputId": "a06ffd0a-4008-44f4-a296-ac430ab34c7c"
      },
      "source": [
        "'''\n",
        "product, sensor 기준으로 그룹화하기\n",
        "'''\n",
        "print('\\n#4 groupby-product,sensor')\n",
        "grouped_product = df.groupby(['product', 'sensor']).sum()\n",
        "print(grouped_product)"
      ],
      "execution_count": 6,
      "outputs": [
        {
          "output_type": "stream",
          "name": "stdout",
          "text": [
            "\n",
            "#4 groupby-product,sensor\n",
            "                x   y\n",
            "product sensor       \n",
            "a       s1      8  16\n",
            "        s2      8  16\n",
            "        s3      8  12\n",
            "b       s1      2   6\n",
            "        s2      6  10\n",
            "        s3      4   8\n"
          ]
        }
      ]
    },
    {
      "cell_type": "code",
      "metadata": {
        "colab": {
          "base_uri": "https://localhost:8080/"
        },
        "id": "gM7vo7FiFKUh",
        "outputId": "7b93cd46-95f2-4faf-bada-c6d0fde138e2"
      },
      "source": [
        "'''\n",
        "그룹화한 뒤 x 컬럼에 대해서만 집계함수 적용하기\n",
        "'''\n",
        "print('\\n#5 groupby-product,sensor')\n",
        "grouped_product = df.groupby(['product', 'sensor'])['x'].sum()\n",
        "print(grouped_product)\n"
      ],
      "execution_count": 7,
      "outputs": [
        {
          "output_type": "stream",
          "name": "stdout",
          "text": [
            "\n",
            "#5 groupby-product,sensor\n",
            "product  sensor\n",
            "a        s1        8\n",
            "         s2        8\n",
            "         s3        8\n",
            "b        s1        2\n",
            "         s2        6\n",
            "         s3        4\n",
            "Name: x, dtype: int64\n"
          ]
        }
      ]
    },
    {
      "cell_type": "code",
      "metadata": {
        "colab": {
          "base_uri": "https://localhost:8080/"
        },
        "id": "PsqNpOQPBLcb",
        "outputId": "04d2fb88-fa5f-4906-fb44-6b049432cbec"
      },
      "source": [
        "'''\n",
        "그룹화한 뒤 컬럼별 다른 집계함수 적용하기\n",
        "'''\n",
        "print('\\n#6 groupby-product,sensor')\n",
        "condition = {'x' : 'max', 'y':'min'}\n",
        "grouped_product = df.groupby(['product', 'sensor']).agg(condition)\n",
        "print(grouped_product)"
      ],
      "execution_count": 8,
      "outputs": [
        {
          "output_type": "stream",
          "name": "stdout",
          "text": [
            "\n",
            "#6 groupby-product,sensor\n",
            "                x   y\n",
            "product sensor       \n",
            "a       s1      7   5\n",
            "        s2      5   7\n",
            "        s3      8  12\n",
            "b       s1      2   6\n",
            "        s2      6  10\n",
            "        s3      4   8\n"
          ]
        }
      ]
    }
  ]
}