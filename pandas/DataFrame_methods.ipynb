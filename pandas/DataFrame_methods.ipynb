{
  "nbformat": 4,
  "nbformat_minor": 0,
  "metadata": {
    "colab": {
      "name": "DataFrame_methods.ipynb",
      "provenance": [],
      "collapsed_sections": []
    },
    "kernelspec": {
      "name": "python3",
      "display_name": "Python 3"
    },
    "language_info": {
      "name": "python"
    }
  },
  "cells": [
    {
      "cell_type": "code",
      "metadata": {
        "id": "AATZDSiMKewd"
      },
      "source": [
        "import pandas as pd"
      ],
      "execution_count": 1,
      "outputs": []
    },
    {
      "cell_type": "code",
      "metadata": {
        "colab": {
          "base_uri": "https://localhost:8080/"
        },
        "id": "YyYtVsixKfWL",
        "outputId": "31f3a456-9349-4c8c-ac4a-a3a706262116"
      },
      "source": [
        "# 실습 데이터 생성\n",
        "score = {'name': ['Jessi', 'Emma', 'Alex', 'Jessi', 'Tom'],\n",
        "         'score': [100, 95, 80, 85, 97],\n",
        "         'grade': ['A', 'A', 'B', 'B', 'A'],\n",
        "         'subject':['python', 'java', 'python', 'c', 'java']}\n",
        "\n",
        "score_df = pd.DataFrame(data=score)\n",
        "print(score_df)"
      ],
      "execution_count": 2,
      "outputs": [
        {
          "output_type": "stream",
          "text": [
            "    name  score grade subject\n",
            "0  Jessi    100     A  python\n",
            "1   Emma     95     A    java\n",
            "2   Alex     80     B  python\n",
            "3  Jessi     85     B       c\n",
            "4    Tom     97     A    java\n"
          ],
          "name": "stdout"
        }
      ]
    },
    {
      "cell_type": "code",
      "metadata": {
        "colab": {
          "base_uri": "https://localhost:8080/"
        },
        "id": "egbHLJ0WKfY8",
        "outputId": "38ded6fc-6120-4e5d-c6b9-b1a10b146680"
      },
      "source": [
        "#.info() 함수 실습\n",
        "print('\\n<Summary of DataFrame>')\n",
        "print(score_df.info())"
      ],
      "execution_count": 3,
      "outputs": [
        {
          "output_type": "stream",
          "text": [
            "\n",
            "<Summary of DataFrame>\n",
            "<class 'pandas.core.frame.DataFrame'>\n",
            "RangeIndex: 5 entries, 0 to 4\n",
            "Data columns (total 4 columns):\n",
            " #   Column   Non-Null Count  Dtype \n",
            "---  ------   --------------  ----- \n",
            " 0   name     5 non-null      object\n",
            " 1   score    5 non-null      int64 \n",
            " 2   grade    5 non-null      object\n",
            " 3   subject  5 non-null      object\n",
            "dtypes: int64(1), object(3)\n",
            "memory usage: 288.0+ bytes\n",
            "None\n"
          ],
          "name": "stdout"
        }
      ]
    },
    {
      "cell_type": "code",
      "metadata": {
        "colab": {
          "base_uri": "https://localhost:8080/"
        },
        "id": "RuTmsj-UKfcA",
        "outputId": "e2b2c9a0-534c-44da-d1a5-425a75f258b1"
      },
      "source": [
        "#.head() 함수 실습\n",
        "print('\\n<Return the first n rows>')\n",
        "print(score_df.head(3))"
      ],
      "execution_count": 4,
      "outputs": [
        {
          "output_type": "stream",
          "text": [
            "\n",
            "<Return the first n rows>\n",
            "    name  score grade subject\n",
            "0  Jessi    100     A  python\n",
            "1   Emma     95     A    java\n",
            "2   Alex     80     B  python\n"
          ],
          "name": "stdout"
        }
      ]
    },
    {
      "cell_type": "code",
      "metadata": {
        "colab": {
          "base_uri": "https://localhost:8080/"
        },
        "id": "SNnXGAgaKf22",
        "outputId": "8f8f93dc-9340-4b29-afa5-5b9e827bb69b"
      },
      "source": [
        "#.tail() 함수 실습\n",
        "print('\\n<Return the last n rows>')\n",
        "print(score_df.tail(2))\n"
      ],
      "execution_count": 5,
      "outputs": [
        {
          "output_type": "stream",
          "text": [
            "\n",
            "<Return the last n rows>\n",
            "    name  score grade subject\n",
            "3  Jessi     85     B       c\n",
            "4    Tom     97     A    java\n"
          ],
          "name": "stdout"
        }
      ]
    },
    {
      "cell_type": "code",
      "metadata": {
        "colab": {
          "base_uri": "https://localhost:8080/"
        },
        "id": "azOPl4iQKf5e",
        "outputId": "d22c7dc8-5f66-4b97-bb95-20ba540b2c97"
      },
      "source": [
        "#.sample() 함수 실습\n",
        "print('\\n<Return a random sample>')\n",
        "print(score_df.sample())"
      ],
      "execution_count": 6,
      "outputs": [
        {
          "output_type": "stream",
          "text": [
            "\n",
            "<Return a random sample>\n",
            "   name  score grade subject\n",
            "1  Emma     95     A    java\n"
          ],
          "name": "stdout"
        }
      ]
    },
    {
      "cell_type": "code",
      "metadata": {
        "colab": {
          "base_uri": "https://localhost:8080/"
        },
        "id": "tHUmlf03K99l",
        "outputId": "ebaf87cb-cbcb-4dc4-c623-f963f00aec0c"
      },
      "source": [
        "#.sample() 함수의 random_state 인자 실습\n",
        "print('\\n<Return a random sample with random_state>')\n",
        "print(score_df.sample(2,random_state=10))"
      ],
      "execution_count": 7,
      "outputs": [
        {
          "output_type": "stream",
          "text": [
            "\n",
            "<Return a random sample with random_state>\n",
            "    name  score grade subject\n",
            "2   Alex     80     B  python\n",
            "3  Jessi     85     B       c\n"
          ],
          "name": "stdout"
        }
      ]
    },
    {
      "cell_type": "code",
      "metadata": {
        "colab": {
          "base_uri": "https://localhost:8080/"
        },
        "id": "CpZLqn1dKbiq",
        "outputId": "117e6132-7fb1-4035-8f64-eb314c267ff7"
      },
      "source": [
        "#.sample() 함수의 flac 인자 실습\n",
        "print('\\n<Return a random sample with flac 50%>')\n",
        "print(score_df.sample(frac=0.25))"
      ],
      "execution_count": 8,
      "outputs": [
        {
          "output_type": "stream",
          "text": [
            "\n",
            "<Return a random sample with flac 50%>\n",
            "    name  score grade subject\n",
            "3  Jessi     85     B       c\n"
          ],
          "name": "stdout"
        }
      ]
    }
  ]
}