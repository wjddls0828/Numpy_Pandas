{
  "nbformat": 4,
  "nbformat_minor": 0,
  "metadata": {
    "colab": {
      "name": "isnull.ipynb",
      "provenance": []
    },
    "kernelspec": {
      "name": "python3",
      "display_name": "Python 3"
    },
    "language_info": {
      "name": "python"
    }
  },
  "cells": [
    {
      "cell_type": "code",
      "metadata": {
        "id": "gcoEHatJuC6N"
      },
      "source": [
        "import pandas as pd\n",
        "import numpy as np"
      ],
      "execution_count": 1,
      "outputs": []
    },
    {
      "cell_type": "code",
      "metadata": {
        "colab": {
          "base_uri": "https://localhost:8080/"
        },
        "id": "nmQBd1SgvADl",
        "outputId": "09f829c8-ee27-4033-fbd3-e62812d6f5e6"
      },
      "source": [
        "# 실습 데이터 생성\n",
        "df = pd.DataFrame(data = np.arange(18).reshape(6,3),\n",
        "\t\t\t\t  index = ['a','b','c','d','e','f'],\n",
        "                  columns=['col1','col2','col3'])\n",
        "print(df)"
      ],
      "execution_count": 3,
      "outputs": [
        {
          "output_type": "stream",
          "name": "stdout",
          "text": [
            "   col1  col2  col3\n",
            "a     0     1     2\n",
            "b     3     4     5\n",
            "c     6     7     8\n",
            "d     9    10    11\n",
            "e    12    13    14\n",
            "f    15    16    17\n"
          ]
        }
      ]
    },
    {
      "cell_type": "code",
      "metadata": {
        "id": "qXtzt2oRvSD9"
      },
      "source": [
        "df['col4'] = pd.Series(data = [1.7, 1.2, 2.4], index = ['a','e','c'])"
      ],
      "execution_count": 5,
      "outputs": []
    },
    {
      "cell_type": "code",
      "metadata": {
        "colab": {
          "base_uri": "https://localhost:8080/"
        },
        "id": "vvQreobIvibm",
        "outputId": "e897f2c3-8584-4df7-bf50-73b2028a0572"
      },
      "source": [
        "print(df)"
      ],
      "execution_count": 6,
      "outputs": [
        {
          "output_type": "stream",
          "name": "stdout",
          "text": [
            "   col1  col2  col3  col4\n",
            "a     0     1     2   1.7\n",
            "b     3     4     5   NaN\n",
            "c     6     7     8   2.4\n",
            "d     9    10    11   NaN\n",
            "e    12    13    14   1.2\n",
            "f    15    16    17   NaN\n"
          ]
        }
      ]
    },
    {
      "cell_type": "code",
      "metadata": {
        "colab": {
          "base_uri": "https://localhost:8080/"
        },
        "id": "oVZs6fVdww7T",
        "outputId": "2e884c0c-1403-4164-dba8-2eea91aee597"
      },
      "source": [
        "df.loc['c'] = None\n",
        "print(df)"
      ],
      "execution_count": 8,
      "outputs": [
        {
          "output_type": "stream",
          "name": "stdout",
          "text": [
            "   col1  col2  col3  col4\n",
            "a   0.0   1.0   2.0   1.7\n",
            "b   3.0   4.0   5.0   NaN\n",
            "c   NaN   NaN   NaN   NaN\n",
            "d   9.0  10.0  11.0   NaN\n",
            "e  12.0  13.0  14.0   1.2\n",
            "f  15.0  16.0  17.0   NaN\n"
          ]
        }
      ]
    },
    {
      "cell_type": "code",
      "metadata": {
        "colab": {
          "base_uri": "https://localhost:8080/"
        },
        "id": "N5I0rY2NuNpt",
        "outputId": "acb680f2-3652-45cf-e930-856bcde53af0"
      },
      "source": [
        "print('Sample Data')\n",
        "print(df)"
      ],
      "execution_count": 2,
      "outputs": [
        {
          "output_type": "stream",
          "name": "stdout",
          "text": [
            "Sample Data\n",
            "   col1  col2  col3  col4\n",
            "a   0.0   1.0   2.0   1.7\n",
            "b   3.0   4.0   5.0   NaN\n",
            "c   NaN   NaN   NaN   NaN\n",
            "d   9.0  10.0  11.0   NaN\n",
            "e  12.0  13.0  14.0   1.2\n",
            "f  15.0  16.0  17.0   NaN\n"
          ]
        }
      ]
    },
    {
      "cell_type": "code",
      "metadata": {
        "colab": {
          "base_uri": "https://localhost:8080/"
        },
        "id": "I1p-N_Z9w80W",
        "outputId": "a9937a9c-c377-49d7-a667-443191a213c1"
      },
      "source": [
        "'''\n",
        "df.info() 함수로 결측치 유무 확인하기\n",
        "'''\n",
        "print('\\n#1 Summary of DataFrame')\n",
        "print(df.info())"
      ],
      "execution_count": 9,
      "outputs": [
        {
          "output_type": "stream",
          "name": "stdout",
          "text": [
            "\n",
            "#1 Summary of DataFrame\n",
            "<class 'pandas.core.frame.DataFrame'>\n",
            "Index: 6 entries, a to f\n",
            "Data columns (total 4 columns):\n",
            " #   Column  Non-Null Count  Dtype  \n",
            "---  ------  --------------  -----  \n",
            " 0   col1    5 non-null      float64\n",
            " 1   col2    5 non-null      float64\n",
            " 2   col3    5 non-null      float64\n",
            " 3   col4    2 non-null      float64\n",
            "dtypes: float64(4)\n",
            "memory usage: 400.0+ bytes\n",
            "None\n"
          ]
        }
      ]
    },
    {
      "cell_type": "code",
      "metadata": {
        "colab": {
          "base_uri": "https://localhost:8080/"
        },
        "id": "6HDOgxO4xHjH",
        "outputId": "5b4ae55a-1241-45ee-d01e-ca2a790e89fa"
      },
      "source": [
        "'''\n",
        "df.isnull() 함수로 결측치 유무 확인하기\n",
        "'''\n",
        "print('\\n#2 isnull of DataFrame')\n",
        "print(df.isnull())"
      ],
      "execution_count": 11,
      "outputs": [
        {
          "output_type": "stream",
          "name": "stdout",
          "text": [
            "\n",
            "#2 isnull of DataFrame\n",
            "    col1   col2   col3   col4\n",
            "a  False  False  False  False\n",
            "b  False  False  False   True\n",
            "c   True   True   True   True\n",
            "d  False  False  False   True\n",
            "e  False  False  False  False\n",
            "f  False  False  False   True\n"
          ]
        }
      ]
    },
    {
      "cell_type": "code",
      "metadata": {
        "colab": {
          "base_uri": "https://localhost:8080/"
        },
        "id": "zkZh9fIMxLOS",
        "outputId": "8c7a8e32-afea-4241-d34d-cfbde8d2f676"
      },
      "source": [
        "'''\n",
        "df.isnull().sum() 함수로 결측치 유무 확인하기\n",
        "'''\n",
        "print('\\n#4 Sum of all missing values per columns')\n",
        "print(df.isnull().sum())"
      ],
      "execution_count": 12,
      "outputs": [
        {
          "output_type": "stream",
          "name": "stdout",
          "text": [
            "\n",
            "#4 Sum of all missing values per columns\n",
            "col1    1\n",
            "col2    1\n",
            "col3    1\n",
            "col4    4\n",
            "dtype: int64\n"
          ]
        }
      ]
    },
    {
      "cell_type": "code",
      "metadata": {
        "colab": {
          "base_uri": "https://localhost:8080/"
        },
        "id": "KUqmLzp_uAe2",
        "outputId": "da93f32b-2b81-43b3-ceca-6fd7e698d0e0"
      },
      "source": [
        "'''\n",
        "df.isnull().sum() 함수에서 데이터 집계 방향 바꾸기\n",
        "'''\n",
        "print('\\n#5 Sum of all missing values per rows')\n",
        "print(df.isnull().sum(axis=1))"
      ],
      "execution_count": 13,
      "outputs": [
        {
          "output_type": "stream",
          "name": "stdout",
          "text": [
            "\n",
            "#5 Sum of all missing values per rows\n",
            "a    0\n",
            "b    1\n",
            "c    4\n",
            "d    1\n",
            "e    0\n",
            "f    1\n",
            "dtype: int64\n"
          ]
        }
      ]
    }
  ]
}