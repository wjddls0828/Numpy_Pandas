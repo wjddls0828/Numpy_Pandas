{
  "nbformat": 4,
  "nbformat_minor": 0,
  "metadata": {
    "colab": {
      "name": "pandas_Series.ipynb",
      "provenance": [],
      "collapsed_sections": []
    },
    "kernelspec": {
      "name": "python3",
      "display_name": "Python 3"
    },
    "language_info": {
      "name": "python"
    }
  },
  "cells": [
    {
      "cell_type": "code",
      "metadata": {
        "colab": {
          "base_uri": "https://localhost:8080/"
        },
        "id": "tCURNasPG4bD",
        "outputId": "a412404e-60d1-41b1-fbc4-31a5e62243f9"
      },
      "source": [
        "# Pandas 라이브러리 로딩\n",
        "import pandas as pd\n",
        "\n",
        "# 설치된 버전 출력\n",
        "print(pd.__version__)"
      ],
      "execution_count": 1,
      "outputs": [
        {
          "output_type": "stream",
          "text": [
            "1.1.5\n"
          ],
          "name": "stdout"
        }
      ]
    },
    {
      "cell_type": "code",
      "metadata": {
        "colab": {
          "base_uri": "https://localhost:8080/"
        },
        "id": "LZRJdonzG7HI",
        "outputId": "44072b77-02ef-476e-ab49-888cd9925aa9"
      },
      "source": [
        "# 리스트 데이터로 Series 객체 생성하기\n",
        "year = ['2019', '2020', '2021', '2022']\n",
        "result = pd.Series(data=year)\n",
        "\n",
        "print('\\nType:', type(result))\n",
        "print(result)"
      ],
      "execution_count": 2,
      "outputs": [
        {
          "output_type": "stream",
          "text": [
            "\n",
            "Type: <class 'pandas.core.series.Series'>\n",
            "0    2019\n",
            "1    2020\n",
            "2    2021\n",
            "3    2022\n",
            "dtype: object\n"
          ],
          "name": "stdout"
        }
      ]
    },
    {
      "cell_type": "code",
      "metadata": {
        "colab": {
          "base_uri": "https://localhost:8080/"
        },
        "id": "z_tA2Il6HCnM",
        "outputId": "968c2845-c52d-4600-fa2b-8154b87d3a6b"
      },
      "source": [
        "# Series 객체의 주요 속성\n",
        "print('\\nIndex: ', result.index )\n",
        "print('Data: ',  result.values)\n",
        "print('DType: ',  result.dtype)\n",
        "print('Shape: ', result.shape)\n",
        "print('\\n')"
      ],
      "execution_count": 3,
      "outputs": [
        {
          "output_type": "stream",
          "text": [
            "\n",
            "Index:  RangeIndex(start=0, stop=4, step=1)\n",
            "Data:  ['2019' '2020' '2021' '2022']\n",
            "DType:  object\n",
            "Shape:  (4,)\n",
            "\n",
            "\n"
          ],
          "name": "stdout"
        }
      ]
    },
    {
      "cell_type": "code",
      "metadata": {
        "colab": {
          "base_uri": "https://localhost:8080/"
        },
        "id": "Z1qnjHEDHC7s",
        "outputId": "c061d2e1-45a1-4b03-9915-11f46975fd14"
      },
      "source": [
        "# Series 객체의 이름 지정\n",
        "result.name = 'Year'\n",
        "result.index.name = 'No.'\n",
        "print(result)\n",
        "print('\\n')"
      ],
      "execution_count": 4,
      "outputs": [
        {
          "output_type": "stream",
          "text": [
            "No.\n",
            "0    2019\n",
            "1    2020\n",
            "2    2021\n",
            "3    2022\n",
            "Name: Year, dtype: object\n",
            "\n",
            "\n"
          ],
          "name": "stdout"
        }
      ]
    },
    {
      "cell_type": "code",
      "metadata": {
        "colab": {
          "base_uri": "https://localhost:8080/"
        },
        "id": "nyz0DktPHDR5",
        "outputId": "1f66d416-570a-4e71-f023-351a8469f204"
      },
      "source": [
        "# 인덱스 추가하여 Series 객체 생성하기\n",
        "year = ['2019', '2020', '2021', '2022']\n",
        "idx = ['a', 'b', 'c', 'd']\n",
        "result = pd.Series(data=year, index=idx,name='Year') \n",
        "print(result)\n",
        "print('\\n')"
      ],
      "execution_count": 11,
      "outputs": [
        {
          "output_type": "stream",
          "text": [
            "a    2019\n",
            "b    2020\n",
            "c    2021\n",
            "d    2022\n",
            "Name: Year, dtype: object\n",
            "\n",
            "\n"
          ],
          "name": "stdout"
        }
      ]
    },
    {
      "cell_type": "code",
      "metadata": {
        "colab": {
          "base_uri": "https://localhost:8080/"
        },
        "id": "ZEUWrRlcIUQR",
        "outputId": "1d9b6d7b-f8bf-4ea7-dd8e-7042b490e405"
      },
      "source": [
        "# 딕셔너리 데이터로 Series 객체 생성하기\n",
        "score = {'Kim':85, 'Han':89, 'Lee':99, 'Choi':70}\n",
        "result = pd.Series(data=score, name='Score')\n",
        "print(result)"
      ],
      "execution_count": 12,
      "outputs": [
        {
          "output_type": "stream",
          "text": [
            "Kim     85\n",
            "Han     89\n",
            "Lee     99\n",
            "Choi    70\n",
            "Name: Score, dtype: int64\n"
          ],
          "name": "stdout"
        }
      ]
    }
  ]
}