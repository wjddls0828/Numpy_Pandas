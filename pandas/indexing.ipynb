{
  "nbformat": 4,
  "nbformat_minor": 0,
  "metadata": {
    "colab": {
      "name": "indexing.ipynb",
      "provenance": []
    },
    "kernelspec": {
      "name": "python3",
      "display_name": "Python 3"
    },
    "language_info": {
      "name": "python"
    }
  },
  "cells": [
    {
      "cell_type": "code",
      "metadata": {
        "colab": {
          "base_uri": "https://localhost:8080/"
        },
        "id": "j0PUoyvA5sdC",
        "outputId": "569d426d-71f8-4b86-8a36-0be9b8f4370b"
      },
      "source": [
        "import pandas as pd\n",
        "\n",
        "# 실습 데이터 생성\n",
        "d = {'name': ['Jessi', 'Emma', 'Alex', 'Jessi', 'Tom'],\n",
        "     'score': [100, 95, 80, 85, 97],\n",
        "     'grade': ['A', 'A', 'B', 'B', 'A'],\n",
        "     'subject':['python', 'java', 'python', 'c', 'java']}\n",
        "\n",
        "df = pd.DataFrame(data=d)\n",
        "print('Sample Data')\n",
        "print(df)\n",
        "\n"
      ],
      "execution_count": 1,
      "outputs": [
        {
          "output_type": "stream",
          "name": "stdout",
          "text": [
            "Sample Data\n",
            "    name  score grade subject\n",
            "0  Jessi    100     A  python\n",
            "1   Emma     95     A    java\n",
            "2   Alex     80     B  python\n",
            "3  Jessi     85     B       c\n",
            "4    Tom     97     A    java\n"
          ]
        }
      ]
    },
    {
      "cell_type": "code",
      "metadata": {
        "colab": {
          "base_uri": "https://localhost:8080/"
        },
        "id": "zsY54xim-aXu",
        "outputId": "0739cc48-7500-4ad1-ea43-f1864cc4043b"
      },
      "source": [
        "'''\n",
        "name 컬럼을 행 인덱스로 바꾸기\n",
        "'''\n",
        "print('\\n#1 Set Index')\n",
        "df.set_index('name',inplace=True)\n",
        "print(df)"
      ],
      "execution_count": 2,
      "outputs": [
        {
          "output_type": "stream",
          "name": "stdout",
          "text": [
            "\n",
            "#1 Set Index\n",
            "       score grade subject\n",
            "name                      \n",
            "Jessi    100     A  python\n",
            "Emma      95     A    java\n",
            "Alex      80     B  python\n",
            "Jessi     85     B       c\n",
            "Tom       97     A    java\n"
          ]
        }
      ]
    },
    {
      "cell_type": "code",
      "metadata": {
        "colab": {
          "base_uri": "https://localhost:8080/"
        },
        "id": "arGKa7hO-dLx",
        "outputId": "ecf6ef28-9f9c-474f-f568-4d9721710a08"
      },
      "source": [
        "'''\n",
        "loc[] 를 통해 행 데이터 조회하기\n",
        "'''\n",
        "print('\\n#2 Access rows')\n",
        "subset = df.loc[['Jessi','Emma']]\n",
        "print(subset)\n"
      ],
      "execution_count": 3,
      "outputs": [
        {
          "output_type": "stream",
          "name": "stdout",
          "text": [
            "\n",
            "#2 Access rows\n",
            "       score grade subject\n",
            "name                      \n",
            "Jessi    100     A  python\n",
            "Jessi     85     B       c\n",
            "Emma      95     A    java\n"
          ]
        }
      ]
    },
    {
      "cell_type": "code",
      "metadata": {
        "colab": {
          "base_uri": "https://localhost:8080/"
        },
        "id": "le6ro-oX-lPY",
        "outputId": "1d15ac5d-7a1d-4b1a-f618-747b24a20b34"
      },
      "source": [
        "'''\n",
        "iloc[] 를 통해 행 데이터 조회하기\n",
        "'''\n",
        "print('\\n#3 Access rows by index position')\n",
        "subset = df.iloc[[0,4]]\n",
        "print(subset)"
      ],
      "execution_count": 4,
      "outputs": [
        {
          "output_type": "stream",
          "name": "stdout",
          "text": [
            "\n",
            "#3 Access rows by index position\n",
            "       score grade subject\n",
            "name                      \n",
            "Jessi    100     A  python\n",
            "Tom       97     A    java\n"
          ]
        }
      ]
    },
    {
      "cell_type": "code",
      "metadata": {
        "colab": {
          "base_uri": "https://localhost:8080/"
        },
        "id": "2UtBfnet-xbK",
        "outputId": "bb0f8f22-4427-42ca-d5c7-3cf36f04e72a"
      },
      "source": [
        "'''\n",
        "loc[] 의 활용 : Boolean Indexing\n",
        "'''\n",
        "print('\\n#4 Access rows by boolean indexing')\n",
        "subset = df.loc[df['score']>=95]\n",
        "print(subset)"
      ],
      "execution_count": 5,
      "outputs": [
        {
          "output_type": "stream",
          "name": "stdout",
          "text": [
            "\n",
            "#4 Access rows by boolean indexing\n",
            "       score grade subject\n",
            "name                      \n",
            "Jessi    100     A  python\n",
            "Emma      95     A    java\n",
            "Tom       97     A    java\n"
          ]
        }
      ]
    },
    {
      "cell_type": "code",
      "metadata": {
        "colab": {
          "base_uri": "https://localhost:8080/"
        },
        "id": "uaAmiJne5qpN",
        "outputId": "9733cb17-6c79-4fa2-88fc-c3c2a5121d68"
      },
      "source": [
        "'''\n",
        "loc[] 의 활용 : Boolean Indexing\n",
        "'''\n",
        "print('\\n#5 Access rows by boolean indexing')\n",
        "subset = df.loc[df['subject']=='python']\n",
        "print(subset)"
      ],
      "execution_count": 6,
      "outputs": [
        {
          "output_type": "stream",
          "name": "stdout",
          "text": [
            "\n",
            "#5 Access rows by boolean indexing\n",
            "       score grade subject\n",
            "name                      \n",
            "Jessi    100     A  python\n",
            "Alex      80     B  python\n"
          ]
        }
      ]
    },
    {
      "cell_type": "code",
      "metadata": {
        "id": "m6WQScgA-2M4"
      },
      "source": [
        ""
      ],
      "execution_count": null,
      "outputs": []
    }
  ]
}