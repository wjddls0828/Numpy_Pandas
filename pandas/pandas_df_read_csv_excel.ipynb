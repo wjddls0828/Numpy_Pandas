{
  "nbformat": 4,
  "nbformat_minor": 0,
  "metadata": {
    "colab": {
      "name": "pandas_df_read_csv_excel.ipynb",
      "provenance": [],
      "collapsed_sections": []
    },
    "kernelspec": {
      "name": "python3",
      "display_name": "Python 3"
    },
    "language_info": {
      "name": "python"
    }
  },
  "cells": [
    {
      "cell_type": "code",
      "metadata": {
        "id": "2sN5l6h-zpCp"
      },
      "source": [
        "import pandas as pd"
      ],
      "execution_count": 1,
      "outputs": []
    },
    {
      "cell_type": "code",
      "metadata": {
        "colab": {
          "base_uri": "https://localhost:8080/"
        },
        "id": "SZnmxGBTzpnV",
        "outputId": "ef1dda13-a352-44fe-9a2d-58adcd1c1b12"
      },
      "source": [
        "# titanic_train.csv 파일 읽기\n",
        "url = 'https://codepresso-online-platform-public.s3.ap-northeast-2.amazonaws.com/learning-resourse/titanic_train.csv'\n",
        "titanic_df = pd.read_csv(url)\n",
        "print(type(titanic_df))"
      ],
      "execution_count": 2,
      "outputs": [
        {
          "output_type": "stream",
          "text": [
            "<class 'pandas.core.frame.DataFrame'>\n"
          ],
          "name": "stdout"
        }
      ]
    },
    {
      "cell_type": "code",
      "metadata": {
        "colab": {
          "base_uri": "https://localhost:8080/"
        },
        "id": "pVSmTvH8zpqU",
        "outputId": "ff84dd1d-25cc-484f-8c29-b92870fb5be5"
      },
      "source": [
        "print('\\nSummary of DataFrame')\n",
        "print(titanic_df.info())"
      ],
      "execution_count": 3,
      "outputs": [
        {
          "output_type": "stream",
          "text": [
            "\n",
            "Summary of DataFrame\n",
            "<class 'pandas.core.frame.DataFrame'>\n",
            "RangeIndex: 891 entries, 0 to 890\n",
            "Data columns (total 12 columns):\n",
            " #   Column       Non-Null Count  Dtype  \n",
            "---  ------       --------------  -----  \n",
            " 0   PassengerId  891 non-null    int64  \n",
            " 1   Survived     891 non-null    int64  \n",
            " 2   Pclass       891 non-null    int64  \n",
            " 3   Name         891 non-null    object \n",
            " 4   Sex          891 non-null    object \n",
            " 5   Age          714 non-null    float64\n",
            " 6   SibSp        891 non-null    int64  \n",
            " 7   Parch        891 non-null    int64  \n",
            " 8   Ticket       891 non-null    object \n",
            " 9   Fare         891 non-null    float64\n",
            " 10  Cabin        204 non-null    object \n",
            " 11  Embarked     889 non-null    object \n",
            "dtypes: float64(2), int64(5), object(5)\n",
            "memory usage: 83.7+ KB\n",
            "None\n"
          ],
          "name": "stdout"
        }
      ]
    },
    {
      "cell_type": "code",
      "metadata": {
        "colab": {
          "base_uri": "https://localhost:8080/"
        },
        "id": "_LL_DvddzptQ",
        "outputId": "7361f6a3-98b6-473f-f0b0-0ea83fd6b432"
      },
      "source": [
        "# 읽어온 데이터의 행 데이터 5개를 출력해보세요.\n",
        "print('\\nReturn the first n rows')\n",
        "print(titanic_df.head(5))"
      ],
      "execution_count": 4,
      "outputs": [
        {
          "output_type": "stream",
          "text": [
            "\n",
            "Return the first n rows\n",
            "   PassengerId  Survived  Pclass  ...     Fare Cabin  Embarked\n",
            "0            1         0       3  ...   7.2500   NaN         S\n",
            "1            2         1       1  ...  71.2833   C85         C\n",
            "2            3         1       3  ...   7.9250   NaN         S\n",
            "3            4         1       1  ...  53.1000  C123         S\n",
            "4            5         0       3  ...   8.0500   NaN         S\n",
            "\n",
            "[5 rows x 12 columns]\n"
          ],
          "name": "stdout"
        }
      ]
    },
    {
      "cell_type": "code",
      "metadata": {
        "id": "L9TV4OhxzpwB"
      },
      "source": [
        "# students_score.xlsx 이 저장된 url\n",
        "url = 'https://codepresso-online-platform-public.s3.ap-northeast-2.amazonaws.com/learning-resourse/python-data-analysis/students_score.xlsx'"
      ],
      "execution_count": 5,
      "outputs": []
    },
    {
      "cell_type": "code",
      "metadata": {
        "colab": {
          "base_uri": "https://localhost:8080/"
        },
        "id": "YRmXPjB10Atb",
        "outputId": "a3cdf8ca-acbf-42e4-c839-8db42b80819e"
      },
      "source": [
        "# 엑셀 파일에서 데이터 읽기\n",
        "print('\\nRead students_score.xlsx')\n",
        "sample_df = pd.read_excel(url)\n",
        "print(sample_df)"
      ],
      "execution_count": 6,
      "outputs": [
        {
          "output_type": "stream",
          "text": [
            "\n",
            "Read students_score.xlsx\n",
            "   Jessi  20  100  A  python\n",
            "0   Emma  24   95  A    java\n",
            "1   Alex  23   80  B  python\n",
            "2  Jessi  20   85  B       c\n",
            "3    Tom  27   97  A    java\n",
            "4    Sia  28   79  C  python\n"
          ],
          "name": "stdout"
        }
      ]
    },
    {
      "cell_type": "code",
      "metadata": {
        "colab": {
          "base_uri": "https://localhost:8080/"
        },
        "id": "K2zT5p6b0B1o",
        "outputId": "9cedaefb-85ea-4062-8a16-50588425af75"
      },
      "source": [
        "'''\n",
        "1) header=none 옵션으로 컬럼 없이 데이터 읽기\n",
        "2) df.columns 에 새로운 컬럼명 저장하기\n",
        "'''\n",
        "sample_df = pd.read_excel(url,header=2)\n",
        "sample_df.columns= ['name', 'age', 'score', 'grade', 'subject']\n",
        "\n",
        "print('\\nRead Excel by header=none')\n",
        "print(sample_df)"
      ],
      "execution_count": 9,
      "outputs": [
        {
          "output_type": "stream",
          "text": [
            "\n",
            "Read Excel by header=none\n",
            "    name  age  score grade subject\n",
            "0  Jessi   20     85     B       c\n",
            "1    Tom   27     97     A    java\n",
            "2    Sia   28     79     C  python\n"
          ],
          "name": "stdout"
        }
      ]
    },
    {
      "cell_type": "code",
      "metadata": {
        "colab": {
          "base_uri": "https://localhost:8080/"
        },
        "id": "tKrN5y8uzn9I",
        "outputId": "ab9c7202-3fca-4b5f-de0d-1d9ab7e97e93"
      },
      "source": [
        "# 'students' sheet 에 있는 데이터 읽기\n",
        "print('\\nRead Excel on students sheet')\n",
        "student_df = pd.read_excel(url,sheet_name='students')\n",
        "print(student_df)"
      ],
      "execution_count": 10,
      "outputs": [
        {
          "output_type": "stream",
          "text": [
            "\n",
            "Read Excel on students sheet\n",
            "    name  age  etc1  etc2  etc3                email\n",
            "0    Lee   25   0.1   0.1   0.1    lee@codepresso.kr\n",
            "1  Hwang   24   0.1   0.1   0.1  hwang@codepresso.kr\n",
            "2    Kim   28   0.1   0.1   0.1    kim@codepresso.kr\n",
            "3   Choi   27   0.1   0.1   0.1   choi@codepresso.kr\n",
            "4   Park   21   0.1   0.1   0.1   park@codepresso.kr\n",
            "5    Lim   20   0.1   0.1   0.1    lim@codepresso.kr\n"
          ],
          "name": "stdout"
        }
      ]
    }
  ]
}