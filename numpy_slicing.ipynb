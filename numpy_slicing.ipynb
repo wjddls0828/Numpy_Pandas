{
  "nbformat": 4,
  "nbformat_minor": 0,
  "metadata": {
    "colab": {
      "name": "numpy_slicing.ipynb",
      "provenance": [],
      "collapsed_sections": []
    },
    "kernelspec": {
      "name": "python3",
      "display_name": "Python 3"
    },
    "language_info": {
      "name": "python"
    }
  },
  "cells": [
    {
      "cell_type": "code",
      "metadata": {
        "id": "IcMtNMgrJNcv"
      },
      "source": [
        "import numpy as np\n",
        "\n",
        "# 1차원 샘플 데이터 생성\n",
        "sample = np.arange(5,15)\n",
        "print('1D-Array Sample')\n",
        "print(sample)"
      ],
      "execution_count": null,
      "outputs": []
    },
    {
      "cell_type": "code",
      "metadata": {
        "id": "sWJjJZV-JNmi"
      },
      "source": [
        "'''\n",
        "# 슬라이싱 \n",
        "'''\n",
        "print('\\nSlicing')\n",
        "print(sample[2:5])\n",
        "print(sample[:5])\n",
        "print(sample[7:])\n",
        "print(sample[2:-1])       \n",
        "print(sample[:])"
      ],
      "execution_count": null,
      "outputs": []
    },
    {
      "cell_type": "code",
      "metadata": {
        "id": "cLNC3M3lJNuC"
      },
      "source": [
        "# 2차원 샘플 데이터 생성\n",
        "sample = np.arange(1,17).reshape(4,4)\n",
        "print('\\n2D-Array Sample')\n",
        "print(sample)"
      ],
      "execution_count": null,
      "outputs": []
    },
    {
      "cell_type": "code",
      "metadata": {
        "id": "1s_YjcRCJS3V"
      },
      "source": [
        "'''\n",
        "# 슬라이싱 \n",
        "'''\n",
        "print('\\nSlicing')\n",
        "print(sample[1:3,1:3])\n",
        "print(sample[:3,0:1])\n",
        "print(sample[3:,:])\n",
        "print(sample[:,2])       \n",
        "print(sample[:,:])"
      ],
      "execution_count": null,
      "outputs": []
    },
    {
      "cell_type": "code",
      "metadata": {
        "id": "8ogg-kBTJS6G"
      },
      "source": [
        "'''\n",
        "# Negative Index 활용한 슬라이싱 \n",
        "'''\n",
        "print('\\nSlicing by Negative Index')\n",
        "print(sample[:,1:-1])\n",
        "print(sample[:-1,-2])       \n",
        "print(sample[:,-1])"
      ],
      "execution_count": null,
      "outputs": []
    }
  ]
}