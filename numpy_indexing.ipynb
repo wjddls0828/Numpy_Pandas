{
  "nbformat": 4,
  "nbformat_minor": 0,
  "metadata": {
    "colab": {
      "name": "numpy_indexing.ipynb",
      "provenance": []
    },
    "kernelspec": {
      "name": "python3",
      "display_name": "Python 3"
    },
    "language_info": {
      "name": "python"
    }
  },
  "cells": [
    {
      "cell_type": "code",
      "metadata": {
        "id": "61TC87T0IcJ3"
      },
      "source": [
        "import numpy as np\n",
        "\n",
        "'''\n",
        "# 1차원 샘플 데이터 생성\n",
        "'''\n",
        "sample = np.arange(5,15)\n",
        "print('1D-Array Sample:', sample)\n",
        "print('sample[3] = ', sample[3])"
      ],
      "execution_count": null,
      "outputs": []
    },
    {
      "cell_type": "code",
      "metadata": {
        "id": "gd5cZuPfIej5"
      },
      "source": [
        "'''\n",
        "# 인덱싱 값 변경 후 출력\n",
        "'''\n",
        "sample[3]=0 \n",
        "print('1D-Array Sample:', sample)"
      ],
      "execution_count": null,
      "outputs": []
    },
    {
      "cell_type": "code",
      "metadata": {
        "id": "j5oK55DYI3o3"
      },
      "source": [
        "'''\n",
        "# 2차원 샘플 데이터 생성\n",
        "'''\n",
        "sample = np.arange(16).reshape((4,4))\n",
        "print('\\n2D-Array Indexing')\n",
        "print(sample)\n",
        "print('sample[2,3] = ', sample[2,3])\n"
      ],
      "execution_count": null,
      "outputs": []
    },
    {
      "cell_type": "code",
      "metadata": {
        "id": "53HSZmShI5T_"
      },
      "source": [
        "'''\n",
        "# 인덱싱 값 변경 후 출력\n",
        "'''\n",
        "sample[2,3]=0\n",
        "print(sample)\n",
        "\n",
        "'''\n",
        "# 3차원 샘플 데이터 생성\n",
        "'''\n",
        "sample = np.arange(16).reshape((4,2,2))\n",
        "print('\\n3D-Array Indexing')\n",
        "print(sample)\n",
        "print('sample[1,1,1] = ', sample[1,1,1])"
      ],
      "execution_count": null,
      "outputs": []
    }
  ]
}