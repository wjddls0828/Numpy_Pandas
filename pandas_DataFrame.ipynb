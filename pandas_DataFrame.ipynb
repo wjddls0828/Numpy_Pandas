{
  "nbformat": 4,
  "nbformat_minor": 0,
  "metadata": {
    "colab": {
      "name": "pandas_DataFrame.ipynb",
      "provenance": [],
      "collapsed_sections": []
    },
    "kernelspec": {
      "name": "python3",
      "display_name": "Python 3"
    },
    "language_info": {
      "name": "python"
    }
  },
  "cells": [
    {
      "cell_type": "code",
      "metadata": {
        "id": "Yb5jv9nyIl2h"
      },
      "source": [
        "import pandas as pd"
      ],
      "execution_count": 1,
      "outputs": []
    },
    {
      "cell_type": "code",
      "metadata": {
        "id": "i3efGw8kInEU"
      },
      "source": [
        "# 파이썬 딕셔너리 객체 이용하여 DataFrame 생성하기\n",
        "score = {'name': ['Jessi', 'Emma', 'Alex', 'Tom'],\n",
        "         'score': [100, 95, 80, 85],\n",
        "         'grade': ['A', 'A', 'B', 'B']}"
      ],
      "execution_count": 2,
      "outputs": []
    },
    {
      "cell_type": "code",
      "metadata": {
        "colab": {
          "base_uri": "https://localhost:8080/"
        },
        "id": "Hq-Jr2JSInLQ",
        "outputId": "6d016d27-54e7-4f48-e670-3decccfa5205"
      },
      "source": [
        "df = pd.DataFrame(data=score)\n",
        "print(type(df))\n",
        "print(df)"
      ],
      "execution_count": 3,
      "outputs": [
        {
          "output_type": "stream",
          "text": [
            "<class 'pandas.core.frame.DataFrame'>\n",
            "    name  score grade\n",
            "0  Jessi    100     A\n",
            "1   Emma     95     A\n",
            "2   Alex     80     B\n",
            "3    Tom     85     B\n"
          ],
          "name": "stdout"
        }
      ]
    },
    {
      "cell_type": "code",
      "metadata": {
        "colab": {
          "base_uri": "https://localhost:8080/"
        },
        "id": "HumRDRNYInOU",
        "outputId": "e405cc83-c8ba-4fc2-b3a9-ed4641c347c8"
      },
      "source": [
        "# DataFrame 주요 속성 실습-1\n",
        "print('-Index: ', df.index)\n",
        "print('-Columns: ', df.columns)\n",
        "print('-Values:\\n', df.values)"
      ],
      "execution_count": 4,
      "outputs": [
        {
          "output_type": "stream",
          "text": [
            "-Index:  RangeIndex(start=0, stop=4, step=1)\n",
            "-Columns:  Index(['name', 'score', 'grade'], dtype='object')\n",
            "-Values:\n",
            " [['Jessi' 100 'A']\n",
            " ['Emma' 95 'A']\n",
            " ['Alex' 80 'B']\n",
            " ['Tom' 85 'B']]\n"
          ],
          "name": "stdout"
        }
      ]
    },
    {
      "cell_type": "code",
      "metadata": {
        "colab": {
          "base_uri": "https://localhost:8080/"
        },
        "id": "n342f8MJInRY",
        "outputId": "ac7c6953-3239-46b1-fde2-aac2992e1834"
      },
      "source": [
        "# DataFrame 주요 속성 실습-2\n",
        "print('-DTypes:\\n', df.dtypes)\n",
        "print('-Shape: ', df.shape)\n",
        "print('\\n')"
      ],
      "execution_count": 5,
      "outputs": [
        {
          "output_type": "stream",
          "text": [
            "-DTypes:\n",
            " name     object\n",
            "score     int64\n",
            "grade    object\n",
            "dtype: object\n",
            "-Shape:  (4, 3)\n",
            "\n",
            "\n"
          ],
          "name": "stdout"
        }
      ]
    },
    {
      "cell_type": "code",
      "metadata": {
        "colab": {
          "base_uri": "https://localhost:8080/"
        },
        "id": "ngyFEewZIkCr",
        "outputId": "6928db22-8706-46e3-c600-61c1bbaf8312"
      },
      "source": [
        "# index, columns 지정하여 DataFrame 생성하기\n",
        "score = {'name': ['Jessi', 'Emma', 'Alex', 'Tom'],\n",
        "         'score': [100, 95, 80, 85],\n",
        "         'grade': ['A', 'A', 'B', 'B']}     \n",
        "i = ['a', 'b', 'c', 'd']\n",
        "c = ['score', 'grade', 'email']\n",
        "        \n",
        "df = pd.DataFrame(data=score, index=i,columns=c)\n",
        "print(df)"
      ],
      "execution_count": 6,
      "outputs": [
        {
          "output_type": "stream",
          "text": [
            "   score grade email\n",
            "a    100     A   NaN\n",
            "b     95     A   NaN\n",
            "c     80     B   NaN\n",
            "d     85     B   NaN\n"
          ],
          "name": "stdout"
        }
      ]
    }
  ]
}